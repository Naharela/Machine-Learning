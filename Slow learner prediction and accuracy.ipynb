{
 "cells": [
  {
   "cell_type": "code",
   "execution_count": 211,
   "metadata": {},
   "outputs": [],
   "source": [
    "import pandas as pd"
   ]
  },
  {
   "cell_type": "code",
   "execution_count": 212,
   "metadata": {},
   "outputs": [],
   "source": [
    "df = pd.read_csv('sld.csv')"
   ]
  },
  {
   "cell_type": "code",
   "execution_count": 213,
   "metadata": {},
   "outputs": [
    {
     "data": {
      "text/html": [
       "<div>\n",
       "<style scoped>\n",
       "    .dataframe tbody tr th:only-of-type {\n",
       "        vertical-align: middle;\n",
       "    }\n",
       "\n",
       "    .dataframe tbody tr th {\n",
       "        vertical-align: top;\n",
       "    }\n",
       "\n",
       "    .dataframe thead th {\n",
       "        text-align: right;\n",
       "    }\n",
       "</style>\n",
       "<table border=\"1\" class=\"dataframe\">\n",
       "  <thead>\n",
       "    <tr style=\"text-align: right;\">\n",
       "      <th></th>\n",
       "      <th>3.Which division are you from?</th>\n",
       "      <th>4.What is your last semester grade?</th>\n",
       "      <th>5.How many hours do you study on a daily basis?</th>\n",
       "      <th>6.Do you have any problem in any particular subject?Please write the subject's name.</th>\n",
       "      <th>9.Do you have personal computer/laptop or mobile phone ?</th>\n",
       "      <th>10.Are you attentive in your studies but yet not understanding any particular subject?Please write the subject's name.</th>\n",
       "      <th>11.Are you associated with any extra-curricular activities?</th>\n",
       "      <th>12.What is your nature?</th>\n",
       "      <th>14.Do you like your university environment?</th>\n",
       "      <th>15.Are you more passionate about something else rather than your study?</th>\n",
       "      <th>23.What is your family type?(2)</th>\n",
       "      <th>25.What do you think about our university education system?</th>\n",
       "      <th>26.Do you think any subject is not necessary or you could ignore if you can?Please write the subject's name.(Ex-art of living, Bangladesh studies etc.)</th>\n",
       "      <th>27.Do you have any familial problems?(Ex-financial issue, family related issue etc).</th>\n",
       "      <th>29.Are you responsive in your class?</th>\n",
       "      <th>30.Learner</th>\n",
       "    </tr>\n",
       "  </thead>\n",
       "  <tbody>\n",
       "    <tr>\n",
       "      <th>0</th>\n",
       "      <td>Dhaka</td>\n",
       "      <td>A</td>\n",
       "      <td>1-2 hours</td>\n",
       "      <td>Data Communication</td>\n",
       "      <td>Yes</td>\n",
       "      <td>None</td>\n",
       "      <td>Yes</td>\n",
       "      <td>Extrovert</td>\n",
       "      <td>No</td>\n",
       "      <td>No</td>\n",
       "      <td>Open-minded</td>\n",
       "      <td>Good</td>\n",
       "      <td>Bangladesh studies ,operating system , Art of ...</td>\n",
       "      <td>Yes</td>\n",
       "      <td>Yes</td>\n",
       "      <td>Fast</td>\n",
       "    </tr>\n",
       "    <tr>\n",
       "      <th>1</th>\n",
       "      <td>Dhaka</td>\n",
       "      <td>A-</td>\n",
       "      <td>2-3 hours</td>\n",
       "      <td>Algorithm</td>\n",
       "      <td>Yes</td>\n",
       "      <td>Algorithm, Data communication</td>\n",
       "      <td>No</td>\n",
       "      <td>Introvert</td>\n",
       "      <td>Yes</td>\n",
       "      <td>Yes</td>\n",
       "      <td>Conservative</td>\n",
       "      <td>Good</td>\n",
       "      <td>None</td>\n",
       "      <td>Yes</td>\n",
       "      <td>Yes</td>\n",
       "      <td>Average</td>\n",
       "    </tr>\n",
       "    <tr>\n",
       "      <th>2</th>\n",
       "      <td>Chittagong</td>\n",
       "      <td>A+</td>\n",
       "      <td>2-3 hours</td>\n",
       "      <td>Data Communication</td>\n",
       "      <td>Yes</td>\n",
       "      <td>None</td>\n",
       "      <td>Yes</td>\n",
       "      <td>Introvert</td>\n",
       "      <td>Yes</td>\n",
       "      <td>No</td>\n",
       "      <td>Open-minded</td>\n",
       "      <td>Good</td>\n",
       "      <td>None</td>\n",
       "      <td>No</td>\n",
       "      <td>Yes</td>\n",
       "      <td>Average</td>\n",
       "    </tr>\n",
       "    <tr>\n",
       "      <th>3</th>\n",
       "      <td>Dhaka</td>\n",
       "      <td>A-</td>\n",
       "      <td>2-3 hours</td>\n",
       "      <td>C,OOP</td>\n",
       "      <td>Yes</td>\n",
       "      <td>None</td>\n",
       "      <td>Yes</td>\n",
       "      <td>Introvert</td>\n",
       "      <td>No</td>\n",
       "      <td>No</td>\n",
       "      <td>Conservative</td>\n",
       "      <td>poor</td>\n",
       "      <td>Mathematics</td>\n",
       "      <td>Yes</td>\n",
       "      <td>Yes</td>\n",
       "      <td>Average</td>\n",
       "    </tr>\n",
       "    <tr>\n",
       "      <th>4</th>\n",
       "      <td>Dhaka</td>\n",
       "      <td>A+</td>\n",
       "      <td>other</td>\n",
       "      <td>None</td>\n",
       "      <td>Yes</td>\n",
       "      <td>None</td>\n",
       "      <td>Yes</td>\n",
       "      <td>Introvert</td>\n",
       "      <td>Yes</td>\n",
       "      <td>Yes</td>\n",
       "      <td>Conservative</td>\n",
       "      <td>Good</td>\n",
       "      <td>None</td>\n",
       "      <td>Yes</td>\n",
       "      <td>Yes</td>\n",
       "      <td>Fast</td>\n",
       "    </tr>\n",
       "    <tr>\n",
       "      <th>...</th>\n",
       "      <td>...</td>\n",
       "      <td>...</td>\n",
       "      <td>...</td>\n",
       "      <td>...</td>\n",
       "      <td>...</td>\n",
       "      <td>...</td>\n",
       "      <td>...</td>\n",
       "      <td>...</td>\n",
       "      <td>...</td>\n",
       "      <td>...</td>\n",
       "      <td>...</td>\n",
       "      <td>...</td>\n",
       "      <td>...</td>\n",
       "      <td>...</td>\n",
       "      <td>...</td>\n",
       "      <td>...</td>\n",
       "    </tr>\n",
       "    <tr>\n",
       "      <th>995</th>\n",
       "      <td>Dhaka</td>\n",
       "      <td>C</td>\n",
       "      <td>other</td>\n",
       "      <td>None</td>\n",
       "      <td>yes</td>\n",
       "      <td>None</td>\n",
       "      <td>No</td>\n",
       "      <td>Extrovert</td>\n",
       "      <td>No</td>\n",
       "      <td>No</td>\n",
       "      <td>Conservative</td>\n",
       "      <td>good</td>\n",
       "      <td>Art of living</td>\n",
       "      <td>Yes</td>\n",
       "      <td>Yes</td>\n",
       "      <td>Slow</td>\n",
       "    </tr>\n",
       "    <tr>\n",
       "      <th>996</th>\n",
       "      <td>Dhaka</td>\n",
       "      <td>C</td>\n",
       "      <td>other</td>\n",
       "      <td>None</td>\n",
       "      <td>yes</td>\n",
       "      <td>None</td>\n",
       "      <td>No</td>\n",
       "      <td>Introvert</td>\n",
       "      <td>yes</td>\n",
       "      <td>Yes</td>\n",
       "      <td>Conservative</td>\n",
       "      <td>Excellent</td>\n",
       "      <td>None</td>\n",
       "      <td>No</td>\n",
       "      <td>no</td>\n",
       "      <td>Slow</td>\n",
       "    </tr>\n",
       "    <tr>\n",
       "      <th>997</th>\n",
       "      <td>Chittagong</td>\n",
       "      <td>C</td>\n",
       "      <td>1-2 hours</td>\n",
       "      <td>None</td>\n",
       "      <td>yes</td>\n",
       "      <td>None</td>\n",
       "      <td>Yes</td>\n",
       "      <td>Introvert</td>\n",
       "      <td>yes</td>\n",
       "      <td>No</td>\n",
       "      <td>Conservative</td>\n",
       "      <td>good</td>\n",
       "      <td>Art of living</td>\n",
       "      <td>No</td>\n",
       "      <td>no</td>\n",
       "      <td>Slow</td>\n",
       "    </tr>\n",
       "    <tr>\n",
       "      <th>998</th>\n",
       "      <td>Chittagong</td>\n",
       "      <td>D</td>\n",
       "      <td>other</td>\n",
       "      <td>None</td>\n",
       "      <td>yes</td>\n",
       "      <td>None</td>\n",
       "      <td>No</td>\n",
       "      <td>Introvert</td>\n",
       "      <td>yes</td>\n",
       "      <td>Yes</td>\n",
       "      <td>Conservative</td>\n",
       "      <td>poor</td>\n",
       "      <td>Art of living</td>\n",
       "      <td>No</td>\n",
       "      <td>no</td>\n",
       "      <td>Slow</td>\n",
       "    </tr>\n",
       "    <tr>\n",
       "      <th>999</th>\n",
       "      <td>Dhaka</td>\n",
       "      <td>A</td>\n",
       "      <td>other</td>\n",
       "      <td>None</td>\n",
       "      <td>yes</td>\n",
       "      <td>None</td>\n",
       "      <td>Yes</td>\n",
       "      <td>Extrovert</td>\n",
       "      <td>yes</td>\n",
       "      <td>No</td>\n",
       "      <td>Open-minded</td>\n",
       "      <td>good</td>\n",
       "      <td>Art of living</td>\n",
       "      <td>No</td>\n",
       "      <td>Yes</td>\n",
       "      <td>Fast</td>\n",
       "    </tr>\n",
       "  </tbody>\n",
       "</table>\n",
       "<p>1000 rows × 16 columns</p>\n",
       "</div>"
      ],
      "text/plain": [
       "    3.Which division are you from? 4.What is your last semester grade?  \\\n",
       "0                            Dhaka                                   A   \n",
       "1                            Dhaka                                  A-   \n",
       "2                       Chittagong                                  A+   \n",
       "3                            Dhaka                                  A-   \n",
       "4                            Dhaka                                  A+   \n",
       "..                             ...                                 ...   \n",
       "995                          Dhaka                                   C   \n",
       "996                          Dhaka                                   C   \n",
       "997                     Chittagong                                   C   \n",
       "998                     Chittagong                                   D   \n",
       "999                          Dhaka                                   A   \n",
       "\n",
       "    5.How many hours do you study on a daily basis?  \\\n",
       "0                                         1-2 hours   \n",
       "1                                         2-3 hours   \n",
       "2                                         2-3 hours   \n",
       "3                                         2-3 hours   \n",
       "4                                             other   \n",
       "..                                              ...   \n",
       "995                                           other   \n",
       "996                                           other   \n",
       "997                                       1-2 hours   \n",
       "998                                           other   \n",
       "999                                           other   \n",
       "\n",
       "    6.Do you have any problem in any particular subject?Please write the subject's name.  \\\n",
       "0                                   Data Communication                                     \n",
       "1                                            Algorithm                                     \n",
       "2                                  Data Communication                                      \n",
       "3                                                C,OOP                                     \n",
       "4                                                 None                                     \n",
       "..                                                 ...                                     \n",
       "995                                               None                                     \n",
       "996                                               None                                     \n",
       "997                                               None                                     \n",
       "998                                               None                                     \n",
       "999                                               None                                     \n",
       "\n",
       "    9.Do you have personal computer/laptop or mobile phone ?  \\\n",
       "0                                                  Yes         \n",
       "1                                                  Yes         \n",
       "2                                                  Yes         \n",
       "3                                                  Yes         \n",
       "4                                                  Yes         \n",
       "..                                                 ...         \n",
       "995                                                yes         \n",
       "996                                                yes         \n",
       "997                                                yes         \n",
       "998                                                yes         \n",
       "999                                                yes         \n",
       "\n",
       "    10.Are you attentive in your studies but yet not understanding any particular subject?Please write the subject's name.  \\\n",
       "0                                                 None                                                                       \n",
       "1                       Algorithm, Data communication                                                                        \n",
       "2                                                 None                                                                       \n",
       "3                                                 None                                                                       \n",
       "4                                                 None                                                                       \n",
       "..                                                 ...                                                                       \n",
       "995                                               None                                                                       \n",
       "996                                               None                                                                       \n",
       "997                                               None                                                                       \n",
       "998                                               None                                                                       \n",
       "999                                               None                                                                       \n",
       "\n",
       "    11.Are you associated with any extra-curricular activities?  \\\n",
       "0                                                  Yes            \n",
       "1                                                   No            \n",
       "2                                                  Yes            \n",
       "3                                                  Yes            \n",
       "4                                                  Yes            \n",
       "..                                                 ...            \n",
       "995                                                 No            \n",
       "996                                                 No            \n",
       "997                                                Yes            \n",
       "998                                                 No            \n",
       "999                                                Yes            \n",
       "\n",
       "    12.What is your nature? 14.Do you like your university environment?  \\\n",
       "0                 Extrovert                                          No   \n",
       "1                 Introvert                                         Yes   \n",
       "2                 Introvert                                         Yes   \n",
       "3                 Introvert                                          No   \n",
       "4                 Introvert                                         Yes   \n",
       "..                      ...                                         ...   \n",
       "995               Extrovert                                          No   \n",
       "996               Introvert                                         yes   \n",
       "997               Introvert                                         yes   \n",
       "998               Introvert                                         yes   \n",
       "999               Extrovert                                         yes   \n",
       "\n",
       "    15.Are you more passionate about something else rather than your study?  \\\n",
       "0                                                   No                        \n",
       "1                                                  Yes                        \n",
       "2                                                   No                        \n",
       "3                                                   No                        \n",
       "4                                                  Yes                        \n",
       "..                                                 ...                        \n",
       "995                                                 No                        \n",
       "996                                                Yes                        \n",
       "997                                                 No                        \n",
       "998                                                Yes                        \n",
       "999                                                 No                        \n",
       "\n",
       "    23.What is your family type?(2)  \\\n",
       "0                       Open-minded   \n",
       "1                      Conservative   \n",
       "2                       Open-minded   \n",
       "3                      Conservative   \n",
       "4                      Conservative   \n",
       "..                              ...   \n",
       "995                    Conservative   \n",
       "996                    Conservative   \n",
       "997                    Conservative   \n",
       "998                    Conservative   \n",
       "999                     Open-minded   \n",
       "\n",
       "    25.What do you think about our university education system?   \\\n",
       "0                                                 Good             \n",
       "1                                                 Good             \n",
       "2                                                 Good             \n",
       "3                                                 poor             \n",
       "4                                                 Good             \n",
       "..                                                 ...             \n",
       "995                                               good             \n",
       "996                                          Excellent             \n",
       "997                                               good             \n",
       "998                                               poor             \n",
       "999                                               good             \n",
       "\n",
       "    26.Do you think any subject is not necessary or you could ignore if you can?Please write the subject's name.(Ex-art of living, Bangladesh studies etc.)  \\\n",
       "0    Bangladesh studies ,operating system , Art of ...                                                                                                        \n",
       "1                                                 None                                                                                                        \n",
       "2                                                 None                                                                                                        \n",
       "3                                          Mathematics                                                                                                        \n",
       "4                                                 None                                                                                                        \n",
       "..                                                 ...                                                                                                        \n",
       "995                                      Art of living                                                                                                        \n",
       "996                                               None                                                                                                        \n",
       "997                                      Art of living                                                                                                        \n",
       "998                                      Art of living                                                                                                        \n",
       "999                                      Art of living                                                                                                        \n",
       "\n",
       "    27.Do you have any familial problems?(Ex-financial issue, family related issue etc).  \\\n",
       "0                                                  Yes                                     \n",
       "1                                                  Yes                                     \n",
       "2                                                   No                                     \n",
       "3                                                  Yes                                     \n",
       "4                                                  Yes                                     \n",
       "..                                                 ...                                     \n",
       "995                                                Yes                                     \n",
       "996                                                 No                                     \n",
       "997                                                 No                                     \n",
       "998                                                 No                                     \n",
       "999                                                 No                                     \n",
       "\n",
       "    29.Are you responsive in your class?  30.Learner  \n",
       "0                                     Yes       Fast  \n",
       "1                                     Yes    Average  \n",
       "2                                     Yes    Average  \n",
       "3                                     Yes    Average  \n",
       "4                                     Yes       Fast  \n",
       "..                                    ...        ...  \n",
       "995                                   Yes       Slow  \n",
       "996                                    no       Slow  \n",
       "997                                    no       Slow  \n",
       "998                                    no       Slow  \n",
       "999                                   Yes       Fast  \n",
       "\n",
       "[1000 rows x 16 columns]"
      ]
     },
     "execution_count": 213,
     "metadata": {},
     "output_type": "execute_result"
    }
   ],
   "source": [
    "df"
   ]
  },
  {
   "cell_type": "code",
   "execution_count": 214,
   "metadata": {},
   "outputs": [],
   "source": [
    "x = df.iloc[:,:-1]"
   ]
  },
  {
   "cell_type": "code",
   "execution_count": 215,
   "metadata": {},
   "outputs": [
    {
     "data": {
      "text/html": [
       "<div>\n",
       "<style scoped>\n",
       "    .dataframe tbody tr th:only-of-type {\n",
       "        vertical-align: middle;\n",
       "    }\n",
       "\n",
       "    .dataframe tbody tr th {\n",
       "        vertical-align: top;\n",
       "    }\n",
       "\n",
       "    .dataframe thead th {\n",
       "        text-align: right;\n",
       "    }\n",
       "</style>\n",
       "<table border=\"1\" class=\"dataframe\">\n",
       "  <thead>\n",
       "    <tr style=\"text-align: right;\">\n",
       "      <th></th>\n",
       "      <th>3.Which division are you from?</th>\n",
       "      <th>4.What is your last semester grade?</th>\n",
       "      <th>5.How many hours do you study on a daily basis?</th>\n",
       "      <th>6.Do you have any problem in any particular subject?Please write the subject's name.</th>\n",
       "      <th>9.Do you have personal computer/laptop or mobile phone ?</th>\n",
       "      <th>10.Are you attentive in your studies but yet not understanding any particular subject?Please write the subject's name.</th>\n",
       "      <th>11.Are you associated with any extra-curricular activities?</th>\n",
       "      <th>12.What is your nature?</th>\n",
       "      <th>14.Do you like your university environment?</th>\n",
       "      <th>15.Are you more passionate about something else rather than your study?</th>\n",
       "      <th>23.What is your family type?(2)</th>\n",
       "      <th>25.What do you think about our university education system?</th>\n",
       "      <th>26.Do you think any subject is not necessary or you could ignore if you can?Please write the subject's name.(Ex-art of living, Bangladesh studies etc.)</th>\n",
       "      <th>27.Do you have any familial problems?(Ex-financial issue, family related issue etc).</th>\n",
       "      <th>29.Are you responsive in your class?</th>\n",
       "    </tr>\n",
       "  </thead>\n",
       "  <tbody>\n",
       "    <tr>\n",
       "      <th>0</th>\n",
       "      <td>Dhaka</td>\n",
       "      <td>A</td>\n",
       "      <td>1-2 hours</td>\n",
       "      <td>Data Communication</td>\n",
       "      <td>Yes</td>\n",
       "      <td>None</td>\n",
       "      <td>Yes</td>\n",
       "      <td>Extrovert</td>\n",
       "      <td>No</td>\n",
       "      <td>No</td>\n",
       "      <td>Open-minded</td>\n",
       "      <td>Good</td>\n",
       "      <td>Bangladesh studies ,operating system , Art of ...</td>\n",
       "      <td>Yes</td>\n",
       "      <td>Yes</td>\n",
       "    </tr>\n",
       "    <tr>\n",
       "      <th>1</th>\n",
       "      <td>Dhaka</td>\n",
       "      <td>A-</td>\n",
       "      <td>2-3 hours</td>\n",
       "      <td>Algorithm</td>\n",
       "      <td>Yes</td>\n",
       "      <td>Algorithm, Data communication</td>\n",
       "      <td>No</td>\n",
       "      <td>Introvert</td>\n",
       "      <td>Yes</td>\n",
       "      <td>Yes</td>\n",
       "      <td>Conservative</td>\n",
       "      <td>Good</td>\n",
       "      <td>None</td>\n",
       "      <td>Yes</td>\n",
       "      <td>Yes</td>\n",
       "    </tr>\n",
       "    <tr>\n",
       "      <th>2</th>\n",
       "      <td>Chittagong</td>\n",
       "      <td>A+</td>\n",
       "      <td>2-3 hours</td>\n",
       "      <td>Data Communication</td>\n",
       "      <td>Yes</td>\n",
       "      <td>None</td>\n",
       "      <td>Yes</td>\n",
       "      <td>Introvert</td>\n",
       "      <td>Yes</td>\n",
       "      <td>No</td>\n",
       "      <td>Open-minded</td>\n",
       "      <td>Good</td>\n",
       "      <td>None</td>\n",
       "      <td>No</td>\n",
       "      <td>Yes</td>\n",
       "    </tr>\n",
       "    <tr>\n",
       "      <th>3</th>\n",
       "      <td>Dhaka</td>\n",
       "      <td>A-</td>\n",
       "      <td>2-3 hours</td>\n",
       "      <td>C,OOP</td>\n",
       "      <td>Yes</td>\n",
       "      <td>None</td>\n",
       "      <td>Yes</td>\n",
       "      <td>Introvert</td>\n",
       "      <td>No</td>\n",
       "      <td>No</td>\n",
       "      <td>Conservative</td>\n",
       "      <td>poor</td>\n",
       "      <td>Mathematics</td>\n",
       "      <td>Yes</td>\n",
       "      <td>Yes</td>\n",
       "    </tr>\n",
       "    <tr>\n",
       "      <th>4</th>\n",
       "      <td>Dhaka</td>\n",
       "      <td>A+</td>\n",
       "      <td>other</td>\n",
       "      <td>None</td>\n",
       "      <td>Yes</td>\n",
       "      <td>None</td>\n",
       "      <td>Yes</td>\n",
       "      <td>Introvert</td>\n",
       "      <td>Yes</td>\n",
       "      <td>Yes</td>\n",
       "      <td>Conservative</td>\n",
       "      <td>Good</td>\n",
       "      <td>None</td>\n",
       "      <td>Yes</td>\n",
       "      <td>Yes</td>\n",
       "    </tr>\n",
       "    <tr>\n",
       "      <th>...</th>\n",
       "      <td>...</td>\n",
       "      <td>...</td>\n",
       "      <td>...</td>\n",
       "      <td>...</td>\n",
       "      <td>...</td>\n",
       "      <td>...</td>\n",
       "      <td>...</td>\n",
       "      <td>...</td>\n",
       "      <td>...</td>\n",
       "      <td>...</td>\n",
       "      <td>...</td>\n",
       "      <td>...</td>\n",
       "      <td>...</td>\n",
       "      <td>...</td>\n",
       "      <td>...</td>\n",
       "    </tr>\n",
       "    <tr>\n",
       "      <th>995</th>\n",
       "      <td>Dhaka</td>\n",
       "      <td>C</td>\n",
       "      <td>other</td>\n",
       "      <td>None</td>\n",
       "      <td>yes</td>\n",
       "      <td>None</td>\n",
       "      <td>No</td>\n",
       "      <td>Extrovert</td>\n",
       "      <td>No</td>\n",
       "      <td>No</td>\n",
       "      <td>Conservative</td>\n",
       "      <td>good</td>\n",
       "      <td>Art of living</td>\n",
       "      <td>Yes</td>\n",
       "      <td>Yes</td>\n",
       "    </tr>\n",
       "    <tr>\n",
       "      <th>996</th>\n",
       "      <td>Dhaka</td>\n",
       "      <td>C</td>\n",
       "      <td>other</td>\n",
       "      <td>None</td>\n",
       "      <td>yes</td>\n",
       "      <td>None</td>\n",
       "      <td>No</td>\n",
       "      <td>Introvert</td>\n",
       "      <td>yes</td>\n",
       "      <td>Yes</td>\n",
       "      <td>Conservative</td>\n",
       "      <td>Excellent</td>\n",
       "      <td>None</td>\n",
       "      <td>No</td>\n",
       "      <td>no</td>\n",
       "    </tr>\n",
       "    <tr>\n",
       "      <th>997</th>\n",
       "      <td>Chittagong</td>\n",
       "      <td>C</td>\n",
       "      <td>1-2 hours</td>\n",
       "      <td>None</td>\n",
       "      <td>yes</td>\n",
       "      <td>None</td>\n",
       "      <td>Yes</td>\n",
       "      <td>Introvert</td>\n",
       "      <td>yes</td>\n",
       "      <td>No</td>\n",
       "      <td>Conservative</td>\n",
       "      <td>good</td>\n",
       "      <td>Art of living</td>\n",
       "      <td>No</td>\n",
       "      <td>no</td>\n",
       "    </tr>\n",
       "    <tr>\n",
       "      <th>998</th>\n",
       "      <td>Chittagong</td>\n",
       "      <td>D</td>\n",
       "      <td>other</td>\n",
       "      <td>None</td>\n",
       "      <td>yes</td>\n",
       "      <td>None</td>\n",
       "      <td>No</td>\n",
       "      <td>Introvert</td>\n",
       "      <td>yes</td>\n",
       "      <td>Yes</td>\n",
       "      <td>Conservative</td>\n",
       "      <td>poor</td>\n",
       "      <td>Art of living</td>\n",
       "      <td>No</td>\n",
       "      <td>no</td>\n",
       "    </tr>\n",
       "    <tr>\n",
       "      <th>999</th>\n",
       "      <td>Dhaka</td>\n",
       "      <td>A</td>\n",
       "      <td>other</td>\n",
       "      <td>None</td>\n",
       "      <td>yes</td>\n",
       "      <td>None</td>\n",
       "      <td>Yes</td>\n",
       "      <td>Extrovert</td>\n",
       "      <td>yes</td>\n",
       "      <td>No</td>\n",
       "      <td>Open-minded</td>\n",
       "      <td>good</td>\n",
       "      <td>Art of living</td>\n",
       "      <td>No</td>\n",
       "      <td>Yes</td>\n",
       "    </tr>\n",
       "  </tbody>\n",
       "</table>\n",
       "<p>1000 rows × 15 columns</p>\n",
       "</div>"
      ],
      "text/plain": [
       "    3.Which division are you from? 4.What is your last semester grade?  \\\n",
       "0                            Dhaka                                   A   \n",
       "1                            Dhaka                                  A-   \n",
       "2                       Chittagong                                  A+   \n",
       "3                            Dhaka                                  A-   \n",
       "4                            Dhaka                                  A+   \n",
       "..                             ...                                 ...   \n",
       "995                          Dhaka                                   C   \n",
       "996                          Dhaka                                   C   \n",
       "997                     Chittagong                                   C   \n",
       "998                     Chittagong                                   D   \n",
       "999                          Dhaka                                   A   \n",
       "\n",
       "    5.How many hours do you study on a daily basis?  \\\n",
       "0                                         1-2 hours   \n",
       "1                                         2-3 hours   \n",
       "2                                         2-3 hours   \n",
       "3                                         2-3 hours   \n",
       "4                                             other   \n",
       "..                                              ...   \n",
       "995                                           other   \n",
       "996                                           other   \n",
       "997                                       1-2 hours   \n",
       "998                                           other   \n",
       "999                                           other   \n",
       "\n",
       "    6.Do you have any problem in any particular subject?Please write the subject's name.  \\\n",
       "0                                   Data Communication                                     \n",
       "1                                            Algorithm                                     \n",
       "2                                  Data Communication                                      \n",
       "3                                                C,OOP                                     \n",
       "4                                                 None                                     \n",
       "..                                                 ...                                     \n",
       "995                                               None                                     \n",
       "996                                               None                                     \n",
       "997                                               None                                     \n",
       "998                                               None                                     \n",
       "999                                               None                                     \n",
       "\n",
       "    9.Do you have personal computer/laptop or mobile phone ?  \\\n",
       "0                                                  Yes         \n",
       "1                                                  Yes         \n",
       "2                                                  Yes         \n",
       "3                                                  Yes         \n",
       "4                                                  Yes         \n",
       "..                                                 ...         \n",
       "995                                                yes         \n",
       "996                                                yes         \n",
       "997                                                yes         \n",
       "998                                                yes         \n",
       "999                                                yes         \n",
       "\n",
       "    10.Are you attentive in your studies but yet not understanding any particular subject?Please write the subject's name.  \\\n",
       "0                                                 None                                                                       \n",
       "1                       Algorithm, Data communication                                                                        \n",
       "2                                                 None                                                                       \n",
       "3                                                 None                                                                       \n",
       "4                                                 None                                                                       \n",
       "..                                                 ...                                                                       \n",
       "995                                               None                                                                       \n",
       "996                                               None                                                                       \n",
       "997                                               None                                                                       \n",
       "998                                               None                                                                       \n",
       "999                                               None                                                                       \n",
       "\n",
       "    11.Are you associated with any extra-curricular activities?  \\\n",
       "0                                                  Yes            \n",
       "1                                                   No            \n",
       "2                                                  Yes            \n",
       "3                                                  Yes            \n",
       "4                                                  Yes            \n",
       "..                                                 ...            \n",
       "995                                                 No            \n",
       "996                                                 No            \n",
       "997                                                Yes            \n",
       "998                                                 No            \n",
       "999                                                Yes            \n",
       "\n",
       "    12.What is your nature? 14.Do you like your university environment?  \\\n",
       "0                 Extrovert                                          No   \n",
       "1                 Introvert                                         Yes   \n",
       "2                 Introvert                                         Yes   \n",
       "3                 Introvert                                          No   \n",
       "4                 Introvert                                         Yes   \n",
       "..                      ...                                         ...   \n",
       "995               Extrovert                                          No   \n",
       "996               Introvert                                         yes   \n",
       "997               Introvert                                         yes   \n",
       "998               Introvert                                         yes   \n",
       "999               Extrovert                                         yes   \n",
       "\n",
       "    15.Are you more passionate about something else rather than your study?  \\\n",
       "0                                                   No                        \n",
       "1                                                  Yes                        \n",
       "2                                                   No                        \n",
       "3                                                   No                        \n",
       "4                                                  Yes                        \n",
       "..                                                 ...                        \n",
       "995                                                 No                        \n",
       "996                                                Yes                        \n",
       "997                                                 No                        \n",
       "998                                                Yes                        \n",
       "999                                                 No                        \n",
       "\n",
       "    23.What is your family type?(2)  \\\n",
       "0                       Open-minded   \n",
       "1                      Conservative   \n",
       "2                       Open-minded   \n",
       "3                      Conservative   \n",
       "4                      Conservative   \n",
       "..                              ...   \n",
       "995                    Conservative   \n",
       "996                    Conservative   \n",
       "997                    Conservative   \n",
       "998                    Conservative   \n",
       "999                     Open-minded   \n",
       "\n",
       "    25.What do you think about our university education system?   \\\n",
       "0                                                 Good             \n",
       "1                                                 Good             \n",
       "2                                                 Good             \n",
       "3                                                 poor             \n",
       "4                                                 Good             \n",
       "..                                                 ...             \n",
       "995                                               good             \n",
       "996                                          Excellent             \n",
       "997                                               good             \n",
       "998                                               poor             \n",
       "999                                               good             \n",
       "\n",
       "    26.Do you think any subject is not necessary or you could ignore if you can?Please write the subject's name.(Ex-art of living, Bangladesh studies etc.)  \\\n",
       "0    Bangladesh studies ,operating system , Art of ...                                                                                                        \n",
       "1                                                 None                                                                                                        \n",
       "2                                                 None                                                                                                        \n",
       "3                                          Mathematics                                                                                                        \n",
       "4                                                 None                                                                                                        \n",
       "..                                                 ...                                                                                                        \n",
       "995                                      Art of living                                                                                                        \n",
       "996                                               None                                                                                                        \n",
       "997                                      Art of living                                                                                                        \n",
       "998                                      Art of living                                                                                                        \n",
       "999                                      Art of living                                                                                                        \n",
       "\n",
       "    27.Do you have any familial problems?(Ex-financial issue, family related issue etc).  \\\n",
       "0                                                  Yes                                     \n",
       "1                                                  Yes                                     \n",
       "2                                                   No                                     \n",
       "3                                                  Yes                                     \n",
       "4                                                  Yes                                     \n",
       "..                                                 ...                                     \n",
       "995                                                Yes                                     \n",
       "996                                                 No                                     \n",
       "997                                                 No                                     \n",
       "998                                                 No                                     \n",
       "999                                                 No                                     \n",
       "\n",
       "    29.Are you responsive in your class?   \n",
       "0                                     Yes  \n",
       "1                                     Yes  \n",
       "2                                     Yes  \n",
       "3                                     Yes  \n",
       "4                                     Yes  \n",
       "..                                    ...  \n",
       "995                                   Yes  \n",
       "996                                    no  \n",
       "997                                    no  \n",
       "998                                    no  \n",
       "999                                   Yes  \n",
       "\n",
       "[1000 rows x 15 columns]"
      ]
     },
     "execution_count": 215,
     "metadata": {},
     "output_type": "execute_result"
    }
   ],
   "source": [
    "x"
   ]
  },
  {
   "cell_type": "code",
   "execution_count": 216,
   "metadata": {},
   "outputs": [],
   "source": [
    "y = df.iloc[:,15]"
   ]
  },
  {
   "cell_type": "code",
   "execution_count": 217,
   "metadata": {},
   "outputs": [
    {
     "data": {
      "text/plain": [
       "0         Fast\n",
       "1      Average\n",
       "2      Average\n",
       "3      Average\n",
       "4         Fast\n",
       "        ...   \n",
       "995       Slow\n",
       "996       Slow\n",
       "997       Slow\n",
       "998       Slow\n",
       "999       Fast\n",
       "Name: 30.Learner, Length: 1000, dtype: object"
      ]
     },
     "execution_count": 217,
     "metadata": {},
     "output_type": "execute_result"
    }
   ],
   "source": [
    "y"
   ]
  },
  {
   "cell_type": "markdown",
   "metadata": {},
   "source": [
    "# Pre-Processing"
   ]
  },
  {
   "cell_type": "code",
   "execution_count": 218,
   "metadata": {},
   "outputs": [],
   "source": [
    "from sklearn.preprocessing import LabelEncoder"
   ]
  },
  {
   "cell_type": "code",
   "execution_count": 219,
   "metadata": {},
   "outputs": [],
   "source": [
    "Le_x = LabelEncoder()"
   ]
  },
  {
   "cell_type": "code",
   "execution_count": 220,
   "metadata": {},
   "outputs": [],
   "source": [
    "x = x.apply(LabelEncoder().fit_transform)"
   ]
  },
  {
   "cell_type": "code",
   "execution_count": 221,
   "metadata": {},
   "outputs": [
    {
     "data": {
      "text/html": [
       "<div>\n",
       "<style scoped>\n",
       "    .dataframe tbody tr th:only-of-type {\n",
       "        vertical-align: middle;\n",
       "    }\n",
       "\n",
       "    .dataframe tbody tr th {\n",
       "        vertical-align: top;\n",
       "    }\n",
       "\n",
       "    .dataframe thead th {\n",
       "        text-align: right;\n",
       "    }\n",
       "</style>\n",
       "<table border=\"1\" class=\"dataframe\">\n",
       "  <thead>\n",
       "    <tr style=\"text-align: right;\">\n",
       "      <th></th>\n",
       "      <th>3.Which division are you from?</th>\n",
       "      <th>4.What is your last semester grade?</th>\n",
       "      <th>5.How many hours do you study on a daily basis?</th>\n",
       "      <th>6.Do you have any problem in any particular subject?Please write the subject's name.</th>\n",
       "      <th>9.Do you have personal computer/laptop or mobile phone ?</th>\n",
       "      <th>10.Are you attentive in your studies but yet not understanding any particular subject?Please write the subject's name.</th>\n",
       "      <th>11.Are you associated with any extra-curricular activities?</th>\n",
       "      <th>12.What is your nature?</th>\n",
       "      <th>14.Do you like your university environment?</th>\n",
       "      <th>15.Are you more passionate about something else rather than your study?</th>\n",
       "      <th>23.What is your family type?(2)</th>\n",
       "      <th>25.What do you think about our university education system?</th>\n",
       "      <th>26.Do you think any subject is not necessary or you could ignore if you can?Please write the subject's name.(Ex-art of living, Bangladesh studies etc.)</th>\n",
       "      <th>27.Do you have any familial problems?(Ex-financial issue, family related issue etc).</th>\n",
       "      <th>29.Are you responsive in your class?</th>\n",
       "    </tr>\n",
       "  </thead>\n",
       "  <tbody>\n",
       "    <tr>\n",
       "      <th>0</th>\n",
       "      <td>2</td>\n",
       "      <td>0</td>\n",
       "      <td>0</td>\n",
       "      <td>24</td>\n",
       "      <td>1</td>\n",
       "      <td>36</td>\n",
       "      <td>1</td>\n",
       "      <td>0</td>\n",
       "      <td>0</td>\n",
       "      <td>0</td>\n",
       "      <td>1</td>\n",
       "      <td>1</td>\n",
       "      <td>25</td>\n",
       "      <td>1</td>\n",
       "      <td>1</td>\n",
       "    </tr>\n",
       "    <tr>\n",
       "      <th>1</th>\n",
       "      <td>2</td>\n",
       "      <td>2</td>\n",
       "      <td>1</td>\n",
       "      <td>4</td>\n",
       "      <td>1</td>\n",
       "      <td>5</td>\n",
       "      <td>0</td>\n",
       "      <td>1</td>\n",
       "      <td>1</td>\n",
       "      <td>1</td>\n",
       "      <td>0</td>\n",
       "      <td>1</td>\n",
       "      <td>39</td>\n",
       "      <td>1</td>\n",
       "      <td>1</td>\n",
       "    </tr>\n",
       "    <tr>\n",
       "      <th>2</th>\n",
       "      <td>1</td>\n",
       "      <td>1</td>\n",
       "      <td>1</td>\n",
       "      <td>25</td>\n",
       "      <td>1</td>\n",
       "      <td>36</td>\n",
       "      <td>1</td>\n",
       "      <td>1</td>\n",
       "      <td>1</td>\n",
       "      <td>0</td>\n",
       "      <td>1</td>\n",
       "      <td>1</td>\n",
       "      <td>39</td>\n",
       "      <td>0</td>\n",
       "      <td>1</td>\n",
       "    </tr>\n",
       "    <tr>\n",
       "      <th>3</th>\n",
       "      <td>2</td>\n",
       "      <td>2</td>\n",
       "      <td>1</td>\n",
       "      <td>17</td>\n",
       "      <td>1</td>\n",
       "      <td>36</td>\n",
       "      <td>1</td>\n",
       "      <td>1</td>\n",
       "      <td>0</td>\n",
       "      <td>0</td>\n",
       "      <td>0</td>\n",
       "      <td>3</td>\n",
       "      <td>37</td>\n",
       "      <td>1</td>\n",
       "      <td>1</td>\n",
       "    </tr>\n",
       "    <tr>\n",
       "      <th>4</th>\n",
       "      <td>2</td>\n",
       "      <td>1</td>\n",
       "      <td>2</td>\n",
       "      <td>41</td>\n",
       "      <td>1</td>\n",
       "      <td>36</td>\n",
       "      <td>1</td>\n",
       "      <td>1</td>\n",
       "      <td>1</td>\n",
       "      <td>1</td>\n",
       "      <td>0</td>\n",
       "      <td>1</td>\n",
       "      <td>39</td>\n",
       "      <td>1</td>\n",
       "      <td>1</td>\n",
       "    </tr>\n",
       "    <tr>\n",
       "      <th>...</th>\n",
       "      <td>...</td>\n",
       "      <td>...</td>\n",
       "      <td>...</td>\n",
       "      <td>...</td>\n",
       "      <td>...</td>\n",
       "      <td>...</td>\n",
       "      <td>...</td>\n",
       "      <td>...</td>\n",
       "      <td>...</td>\n",
       "      <td>...</td>\n",
       "      <td>...</td>\n",
       "      <td>...</td>\n",
       "      <td>...</td>\n",
       "      <td>...</td>\n",
       "      <td>...</td>\n",
       "    </tr>\n",
       "    <tr>\n",
       "      <th>995</th>\n",
       "      <td>2</td>\n",
       "      <td>6</td>\n",
       "      <td>2</td>\n",
       "      <td>41</td>\n",
       "      <td>3</td>\n",
       "      <td>36</td>\n",
       "      <td>0</td>\n",
       "      <td>0</td>\n",
       "      <td>0</td>\n",
       "      <td>0</td>\n",
       "      <td>0</td>\n",
       "      <td>2</td>\n",
       "      <td>5</td>\n",
       "      <td>1</td>\n",
       "      <td>1</td>\n",
       "    </tr>\n",
       "    <tr>\n",
       "      <th>996</th>\n",
       "      <td>2</td>\n",
       "      <td>6</td>\n",
       "      <td>2</td>\n",
       "      <td>41</td>\n",
       "      <td>3</td>\n",
       "      <td>36</td>\n",
       "      <td>0</td>\n",
       "      <td>1</td>\n",
       "      <td>3</td>\n",
       "      <td>1</td>\n",
       "      <td>0</td>\n",
       "      <td>0</td>\n",
       "      <td>39</td>\n",
       "      <td>0</td>\n",
       "      <td>2</td>\n",
       "    </tr>\n",
       "    <tr>\n",
       "      <th>997</th>\n",
       "      <td>1</td>\n",
       "      <td>6</td>\n",
       "      <td>0</td>\n",
       "      <td>41</td>\n",
       "      <td>3</td>\n",
       "      <td>36</td>\n",
       "      <td>1</td>\n",
       "      <td>1</td>\n",
       "      <td>3</td>\n",
       "      <td>0</td>\n",
       "      <td>0</td>\n",
       "      <td>2</td>\n",
       "      <td>5</td>\n",
       "      <td>0</td>\n",
       "      <td>2</td>\n",
       "    </tr>\n",
       "    <tr>\n",
       "      <th>998</th>\n",
       "      <td>1</td>\n",
       "      <td>8</td>\n",
       "      <td>2</td>\n",
       "      <td>41</td>\n",
       "      <td>3</td>\n",
       "      <td>36</td>\n",
       "      <td>0</td>\n",
       "      <td>1</td>\n",
       "      <td>3</td>\n",
       "      <td>1</td>\n",
       "      <td>0</td>\n",
       "      <td>3</td>\n",
       "      <td>5</td>\n",
       "      <td>0</td>\n",
       "      <td>2</td>\n",
       "    </tr>\n",
       "    <tr>\n",
       "      <th>999</th>\n",
       "      <td>2</td>\n",
       "      <td>0</td>\n",
       "      <td>2</td>\n",
       "      <td>41</td>\n",
       "      <td>3</td>\n",
       "      <td>36</td>\n",
       "      <td>1</td>\n",
       "      <td>0</td>\n",
       "      <td>3</td>\n",
       "      <td>0</td>\n",
       "      <td>1</td>\n",
       "      <td>2</td>\n",
       "      <td>5</td>\n",
       "      <td>0</td>\n",
       "      <td>1</td>\n",
       "    </tr>\n",
       "  </tbody>\n",
       "</table>\n",
       "<p>1000 rows × 15 columns</p>\n",
       "</div>"
      ],
      "text/plain": [
       "     3.Which division are you from?  4.What is your last semester grade?  \\\n",
       "0                                 2                                    0   \n",
       "1                                 2                                    2   \n",
       "2                                 1                                    1   \n",
       "3                                 2                                    2   \n",
       "4                                 2                                    1   \n",
       "..                              ...                                  ...   \n",
       "995                               2                                    6   \n",
       "996                               2                                    6   \n",
       "997                               1                                    6   \n",
       "998                               1                                    8   \n",
       "999                               2                                    0   \n",
       "\n",
       "     5.How many hours do you study on a daily basis?  \\\n",
       "0                                                  0   \n",
       "1                                                  1   \n",
       "2                                                  1   \n",
       "3                                                  1   \n",
       "4                                                  2   \n",
       "..                                               ...   \n",
       "995                                                2   \n",
       "996                                                2   \n",
       "997                                                0   \n",
       "998                                                2   \n",
       "999                                                2   \n",
       "\n",
       "     6.Do you have any problem in any particular subject?Please write the subject's name.  \\\n",
       "0                                                   24                                      \n",
       "1                                                    4                                      \n",
       "2                                                   25                                      \n",
       "3                                                   17                                      \n",
       "4                                                   41                                      \n",
       "..                                                 ...                                      \n",
       "995                                                 41                                      \n",
       "996                                                 41                                      \n",
       "997                                                 41                                      \n",
       "998                                                 41                                      \n",
       "999                                                 41                                      \n",
       "\n",
       "     9.Do you have personal computer/laptop or mobile phone ?  \\\n",
       "0                                                    1          \n",
       "1                                                    1          \n",
       "2                                                    1          \n",
       "3                                                    1          \n",
       "4                                                    1          \n",
       "..                                                 ...          \n",
       "995                                                  3          \n",
       "996                                                  3          \n",
       "997                                                  3          \n",
       "998                                                  3          \n",
       "999                                                  3          \n",
       "\n",
       "     10.Are you attentive in your studies but yet not understanding any particular subject?Please write the subject's name.  \\\n",
       "0                                                   36                                                                        \n",
       "1                                                    5                                                                        \n",
       "2                                                   36                                                                        \n",
       "3                                                   36                                                                        \n",
       "4                                                   36                                                                        \n",
       "..                                                 ...                                                                        \n",
       "995                                                 36                                                                        \n",
       "996                                                 36                                                                        \n",
       "997                                                 36                                                                        \n",
       "998                                                 36                                                                        \n",
       "999                                                 36                                                                        \n",
       "\n",
       "     11.Are you associated with any extra-curricular activities?  \\\n",
       "0                                                    1             \n",
       "1                                                    0             \n",
       "2                                                    1             \n",
       "3                                                    1             \n",
       "4                                                    1             \n",
       "..                                                 ...             \n",
       "995                                                  0             \n",
       "996                                                  0             \n",
       "997                                                  1             \n",
       "998                                                  0             \n",
       "999                                                  1             \n",
       "\n",
       "     12.What is your nature?  14.Do you like your university environment?  \\\n",
       "0                          0                                            0   \n",
       "1                          1                                            1   \n",
       "2                          1                                            1   \n",
       "3                          1                                            0   \n",
       "4                          1                                            1   \n",
       "..                       ...                                          ...   \n",
       "995                        0                                            0   \n",
       "996                        1                                            3   \n",
       "997                        1                                            3   \n",
       "998                        1                                            3   \n",
       "999                        0                                            3   \n",
       "\n",
       "     15.Are you more passionate about something else rather than your study?  \\\n",
       "0                                                    0                         \n",
       "1                                                    1                         \n",
       "2                                                    0                         \n",
       "3                                                    0                         \n",
       "4                                                    1                         \n",
       "..                                                 ...                         \n",
       "995                                                  0                         \n",
       "996                                                  1                         \n",
       "997                                                  0                         \n",
       "998                                                  1                         \n",
       "999                                                  0                         \n",
       "\n",
       "     23.What is your family type?(2)  \\\n",
       "0                                  1   \n",
       "1                                  0   \n",
       "2                                  1   \n",
       "3                                  0   \n",
       "4                                  0   \n",
       "..                               ...   \n",
       "995                                0   \n",
       "996                                0   \n",
       "997                                0   \n",
       "998                                0   \n",
       "999                                1   \n",
       "\n",
       "     25.What do you think about our university education system?   \\\n",
       "0                                                    1              \n",
       "1                                                    1              \n",
       "2                                                    1              \n",
       "3                                                    3              \n",
       "4                                                    1              \n",
       "..                                                 ...              \n",
       "995                                                  2              \n",
       "996                                                  0              \n",
       "997                                                  2              \n",
       "998                                                  3              \n",
       "999                                                  2              \n",
       "\n",
       "     26.Do you think any subject is not necessary or you could ignore if you can?Please write the subject's name.(Ex-art of living, Bangladesh studies etc.)  \\\n",
       "0                                                   25                                                                                                         \n",
       "1                                                   39                                                                                                         \n",
       "2                                                   39                                                                                                         \n",
       "3                                                   37                                                                                                         \n",
       "4                                                   39                                                                                                         \n",
       "..                                                 ...                                                                                                         \n",
       "995                                                  5                                                                                                         \n",
       "996                                                 39                                                                                                         \n",
       "997                                                  5                                                                                                         \n",
       "998                                                  5                                                                                                         \n",
       "999                                                  5                                                                                                         \n",
       "\n",
       "     27.Do you have any familial problems?(Ex-financial issue, family related issue etc).  \\\n",
       "0                                                    1                                      \n",
       "1                                                    1                                      \n",
       "2                                                    0                                      \n",
       "3                                                    1                                      \n",
       "4                                                    1                                      \n",
       "..                                                 ...                                      \n",
       "995                                                  1                                      \n",
       "996                                                  0                                      \n",
       "997                                                  0                                      \n",
       "998                                                  0                                      \n",
       "999                                                  0                                      \n",
       "\n",
       "     29.Are you responsive in your class?   \n",
       "0                                        1  \n",
       "1                                        1  \n",
       "2                                        1  \n",
       "3                                        1  \n",
       "4                                        1  \n",
       "..                                     ...  \n",
       "995                                      1  \n",
       "996                                      2  \n",
       "997                                      2  \n",
       "998                                      2  \n",
       "999                                      1  \n",
       "\n",
       "[1000 rows x 15 columns]"
      ]
     },
     "execution_count": 221,
     "metadata": {},
     "output_type": "execute_result"
    }
   ],
   "source": [
    "x"
   ]
  },
  {
   "cell_type": "code",
   "execution_count": 222,
   "metadata": {},
   "outputs": [],
   "source": [
    "from sklearn.model_selection import train_test_split"
   ]
  },
  {
   "cell_type": "code",
   "execution_count": 223,
   "metadata": {},
   "outputs": [],
   "source": [
    "xtrain,xtest,ytrain,ytest = train_test_split(x,y,test_size=.30,random_state=1)"
   ]
  },
  {
   "cell_type": "code",
   "execution_count": 224,
   "metadata": {},
   "outputs": [
    {
     "data": {
      "text/html": [
       "<div>\n",
       "<style scoped>\n",
       "    .dataframe tbody tr th:only-of-type {\n",
       "        vertical-align: middle;\n",
       "    }\n",
       "\n",
       "    .dataframe tbody tr th {\n",
       "        vertical-align: top;\n",
       "    }\n",
       "\n",
       "    .dataframe thead th {\n",
       "        text-align: right;\n",
       "    }\n",
       "</style>\n",
       "<table border=\"1\" class=\"dataframe\">\n",
       "  <thead>\n",
       "    <tr style=\"text-align: right;\">\n",
       "      <th></th>\n",
       "      <th>3.Which division are you from?</th>\n",
       "      <th>4.What is your last semester grade?</th>\n",
       "      <th>5.How many hours do you study on a daily basis?</th>\n",
       "      <th>6.Do you have any problem in any particular subject?Please write the subject's name.</th>\n",
       "      <th>9.Do you have personal computer/laptop or mobile phone ?</th>\n",
       "      <th>10.Are you attentive in your studies but yet not understanding any particular subject?Please write the subject's name.</th>\n",
       "      <th>11.Are you associated with any extra-curricular activities?</th>\n",
       "      <th>12.What is your nature?</th>\n",
       "      <th>14.Do you like your university environment?</th>\n",
       "      <th>15.Are you more passionate about something else rather than your study?</th>\n",
       "      <th>23.What is your family type?(2)</th>\n",
       "      <th>25.What do you think about our university education system?</th>\n",
       "      <th>26.Do you think any subject is not necessary or you could ignore if you can?Please write the subject's name.(Ex-art of living, Bangladesh studies etc.)</th>\n",
       "      <th>27.Do you have any familial problems?(Ex-financial issue, family related issue etc).</th>\n",
       "      <th>29.Are you responsive in your class?</th>\n",
       "    </tr>\n",
       "  </thead>\n",
       "  <tbody>\n",
       "    <tr>\n",
       "      <th>731</th>\n",
       "      <td>2</td>\n",
       "      <td>7</td>\n",
       "      <td>2</td>\n",
       "      <td>41</td>\n",
       "      <td>3</td>\n",
       "      <td>36</td>\n",
       "      <td>0</td>\n",
       "      <td>1</td>\n",
       "      <td>3</td>\n",
       "      <td>0</td>\n",
       "      <td>0</td>\n",
       "      <td>2</td>\n",
       "      <td>39</td>\n",
       "      <td>0</td>\n",
       "      <td>1</td>\n",
       "    </tr>\n",
       "    <tr>\n",
       "      <th>716</th>\n",
       "      <td>2</td>\n",
       "      <td>4</td>\n",
       "      <td>0</td>\n",
       "      <td>41</td>\n",
       "      <td>3</td>\n",
       "      <td>36</td>\n",
       "      <td>1</td>\n",
       "      <td>1</td>\n",
       "      <td>3</td>\n",
       "      <td>0</td>\n",
       "      <td>0</td>\n",
       "      <td>2</td>\n",
       "      <td>39</td>\n",
       "      <td>1</td>\n",
       "      <td>2</td>\n",
       "    </tr>\n",
       "    <tr>\n",
       "      <th>640</th>\n",
       "      <td>2</td>\n",
       "      <td>6</td>\n",
       "      <td>2</td>\n",
       "      <td>41</td>\n",
       "      <td>3</td>\n",
       "      <td>36</td>\n",
       "      <td>0</td>\n",
       "      <td>1</td>\n",
       "      <td>3</td>\n",
       "      <td>0</td>\n",
       "      <td>0</td>\n",
       "      <td>2</td>\n",
       "      <td>39</td>\n",
       "      <td>0</td>\n",
       "      <td>2</td>\n",
       "    </tr>\n",
       "    <tr>\n",
       "      <th>804</th>\n",
       "      <td>2</td>\n",
       "      <td>5</td>\n",
       "      <td>0</td>\n",
       "      <td>41</td>\n",
       "      <td>3</td>\n",
       "      <td>36</td>\n",
       "      <td>0</td>\n",
       "      <td>1</td>\n",
       "      <td>3</td>\n",
       "      <td>0</td>\n",
       "      <td>0</td>\n",
       "      <td>2</td>\n",
       "      <td>39</td>\n",
       "      <td>0</td>\n",
       "      <td>1</td>\n",
       "    </tr>\n",
       "    <tr>\n",
       "      <th>737</th>\n",
       "      <td>5</td>\n",
       "      <td>6</td>\n",
       "      <td>2</td>\n",
       "      <td>41</td>\n",
       "      <td>3</td>\n",
       "      <td>36</td>\n",
       "      <td>0</td>\n",
       "      <td>1</td>\n",
       "      <td>3</td>\n",
       "      <td>0</td>\n",
       "      <td>1</td>\n",
       "      <td>0</td>\n",
       "      <td>39</td>\n",
       "      <td>0</td>\n",
       "      <td>1</td>\n",
       "    </tr>\n",
       "    <tr>\n",
       "      <th>...</th>\n",
       "      <td>...</td>\n",
       "      <td>...</td>\n",
       "      <td>...</td>\n",
       "      <td>...</td>\n",
       "      <td>...</td>\n",
       "      <td>...</td>\n",
       "      <td>...</td>\n",
       "      <td>...</td>\n",
       "      <td>...</td>\n",
       "      <td>...</td>\n",
       "      <td>...</td>\n",
       "      <td>...</td>\n",
       "      <td>...</td>\n",
       "      <td>...</td>\n",
       "      <td>...</td>\n",
       "    </tr>\n",
       "    <tr>\n",
       "      <th>767</th>\n",
       "      <td>2</td>\n",
       "      <td>6</td>\n",
       "      <td>0</td>\n",
       "      <td>30</td>\n",
       "      <td>3</td>\n",
       "      <td>24</td>\n",
       "      <td>0</td>\n",
       "      <td>0</td>\n",
       "      <td>3</td>\n",
       "      <td>0</td>\n",
       "      <td>1</td>\n",
       "      <td>3</td>\n",
       "      <td>5</td>\n",
       "      <td>0</td>\n",
       "      <td>2</td>\n",
       "    </tr>\n",
       "    <tr>\n",
       "      <th>72</th>\n",
       "      <td>3</td>\n",
       "      <td>2</td>\n",
       "      <td>0</td>\n",
       "      <td>41</td>\n",
       "      <td>1</td>\n",
       "      <td>36</td>\n",
       "      <td>1</td>\n",
       "      <td>1</td>\n",
       "      <td>1</td>\n",
       "      <td>1</td>\n",
       "      <td>1</td>\n",
       "      <td>1</td>\n",
       "      <td>39</td>\n",
       "      <td>1</td>\n",
       "      <td>1</td>\n",
       "    </tr>\n",
       "    <tr>\n",
       "      <th>908</th>\n",
       "      <td>2</td>\n",
       "      <td>6</td>\n",
       "      <td>2</td>\n",
       "      <td>41</td>\n",
       "      <td>3</td>\n",
       "      <td>36</td>\n",
       "      <td>0</td>\n",
       "      <td>1</td>\n",
       "      <td>3</td>\n",
       "      <td>0</td>\n",
       "      <td>1</td>\n",
       "      <td>2</td>\n",
       "      <td>39</td>\n",
       "      <td>0</td>\n",
       "      <td>1</td>\n",
       "    </tr>\n",
       "    <tr>\n",
       "      <th>235</th>\n",
       "      <td>3</td>\n",
       "      <td>2</td>\n",
       "      <td>1</td>\n",
       "      <td>17</td>\n",
       "      <td>1</td>\n",
       "      <td>36</td>\n",
       "      <td>0</td>\n",
       "      <td>1</td>\n",
       "      <td>1</td>\n",
       "      <td>1</td>\n",
       "      <td>1</td>\n",
       "      <td>0</td>\n",
       "      <td>39</td>\n",
       "      <td>1</td>\n",
       "      <td>1</td>\n",
       "    </tr>\n",
       "    <tr>\n",
       "      <th>37</th>\n",
       "      <td>4</td>\n",
       "      <td>2</td>\n",
       "      <td>2</td>\n",
       "      <td>41</td>\n",
       "      <td>1</td>\n",
       "      <td>36</td>\n",
       "      <td>1</td>\n",
       "      <td>1</td>\n",
       "      <td>1</td>\n",
       "      <td>1</td>\n",
       "      <td>0</td>\n",
       "      <td>0</td>\n",
       "      <td>39</td>\n",
       "      <td>1</td>\n",
       "      <td>1</td>\n",
       "    </tr>\n",
       "  </tbody>\n",
       "</table>\n",
       "<p>700 rows × 15 columns</p>\n",
       "</div>"
      ],
      "text/plain": [
       "     3.Which division are you from?  4.What is your last semester grade?  \\\n",
       "731                               2                                    7   \n",
       "716                               2                                    4   \n",
       "640                               2                                    6   \n",
       "804                               2                                    5   \n",
       "737                               5                                    6   \n",
       "..                              ...                                  ...   \n",
       "767                               2                                    6   \n",
       "72                                3                                    2   \n",
       "908                               2                                    6   \n",
       "235                               3                                    2   \n",
       "37                                4                                    2   \n",
       "\n",
       "     5.How many hours do you study on a daily basis?  \\\n",
       "731                                                2   \n",
       "716                                                0   \n",
       "640                                                2   \n",
       "804                                                0   \n",
       "737                                                2   \n",
       "..                                               ...   \n",
       "767                                                0   \n",
       "72                                                 0   \n",
       "908                                                2   \n",
       "235                                                1   \n",
       "37                                                 2   \n",
       "\n",
       "     6.Do you have any problem in any particular subject?Please write the subject's name.  \\\n",
       "731                                                 41                                      \n",
       "716                                                 41                                      \n",
       "640                                                 41                                      \n",
       "804                                                 41                                      \n",
       "737                                                 41                                      \n",
       "..                                                 ...                                      \n",
       "767                                                 30                                      \n",
       "72                                                  41                                      \n",
       "908                                                 41                                      \n",
       "235                                                 17                                      \n",
       "37                                                  41                                      \n",
       "\n",
       "     9.Do you have personal computer/laptop or mobile phone ?  \\\n",
       "731                                                  3          \n",
       "716                                                  3          \n",
       "640                                                  3          \n",
       "804                                                  3          \n",
       "737                                                  3          \n",
       "..                                                 ...          \n",
       "767                                                  3          \n",
       "72                                                   1          \n",
       "908                                                  3          \n",
       "235                                                  1          \n",
       "37                                                   1          \n",
       "\n",
       "     10.Are you attentive in your studies but yet not understanding any particular subject?Please write the subject's name.  \\\n",
       "731                                                 36                                                                        \n",
       "716                                                 36                                                                        \n",
       "640                                                 36                                                                        \n",
       "804                                                 36                                                                        \n",
       "737                                                 36                                                                        \n",
       "..                                                 ...                                                                        \n",
       "767                                                 24                                                                        \n",
       "72                                                  36                                                                        \n",
       "908                                                 36                                                                        \n",
       "235                                                 36                                                                        \n",
       "37                                                  36                                                                        \n",
       "\n",
       "     11.Are you associated with any extra-curricular activities?  \\\n",
       "731                                                  0             \n",
       "716                                                  1             \n",
       "640                                                  0             \n",
       "804                                                  0             \n",
       "737                                                  0             \n",
       "..                                                 ...             \n",
       "767                                                  0             \n",
       "72                                                   1             \n",
       "908                                                  0             \n",
       "235                                                  0             \n",
       "37                                                   1             \n",
       "\n",
       "     12.What is your nature?  14.Do you like your university environment?  \\\n",
       "731                        1                                            3   \n",
       "716                        1                                            3   \n",
       "640                        1                                            3   \n",
       "804                        1                                            3   \n",
       "737                        1                                            3   \n",
       "..                       ...                                          ...   \n",
       "767                        0                                            3   \n",
       "72                         1                                            1   \n",
       "908                        1                                            3   \n",
       "235                        1                                            1   \n",
       "37                         1                                            1   \n",
       "\n",
       "     15.Are you more passionate about something else rather than your study?  \\\n",
       "731                                                  0                         \n",
       "716                                                  0                         \n",
       "640                                                  0                         \n",
       "804                                                  0                         \n",
       "737                                                  0                         \n",
       "..                                                 ...                         \n",
       "767                                                  0                         \n",
       "72                                                   1                         \n",
       "908                                                  0                         \n",
       "235                                                  1                         \n",
       "37                                                   1                         \n",
       "\n",
       "     23.What is your family type?(2)  \\\n",
       "731                                0   \n",
       "716                                0   \n",
       "640                                0   \n",
       "804                                0   \n",
       "737                                1   \n",
       "..                               ...   \n",
       "767                                1   \n",
       "72                                 1   \n",
       "908                                1   \n",
       "235                                1   \n",
       "37                                 0   \n",
       "\n",
       "     25.What do you think about our university education system?   \\\n",
       "731                                                  2              \n",
       "716                                                  2              \n",
       "640                                                  2              \n",
       "804                                                  2              \n",
       "737                                                  0              \n",
       "..                                                 ...              \n",
       "767                                                  3              \n",
       "72                                                   1              \n",
       "908                                                  2              \n",
       "235                                                  0              \n",
       "37                                                   0              \n",
       "\n",
       "     26.Do you think any subject is not necessary or you could ignore if you can?Please write the subject's name.(Ex-art of living, Bangladesh studies etc.)  \\\n",
       "731                                                 39                                                                                                         \n",
       "716                                                 39                                                                                                         \n",
       "640                                                 39                                                                                                         \n",
       "804                                                 39                                                                                                         \n",
       "737                                                 39                                                                                                         \n",
       "..                                                 ...                                                                                                         \n",
       "767                                                  5                                                                                                         \n",
       "72                                                  39                                                                                                         \n",
       "908                                                 39                                                                                                         \n",
       "235                                                 39                                                                                                         \n",
       "37                                                  39                                                                                                         \n",
       "\n",
       "     27.Do you have any familial problems?(Ex-financial issue, family related issue etc).  \\\n",
       "731                                                  0                                      \n",
       "716                                                  1                                      \n",
       "640                                                  0                                      \n",
       "804                                                  0                                      \n",
       "737                                                  0                                      \n",
       "..                                                 ...                                      \n",
       "767                                                  0                                      \n",
       "72                                                   1                                      \n",
       "908                                                  0                                      \n",
       "235                                                  1                                      \n",
       "37                                                   1                                      \n",
       "\n",
       "     29.Are you responsive in your class?   \n",
       "731                                      1  \n",
       "716                                      2  \n",
       "640                                      2  \n",
       "804                                      1  \n",
       "737                                      1  \n",
       "..                                     ...  \n",
       "767                                      2  \n",
       "72                                       1  \n",
       "908                                      1  \n",
       "235                                      1  \n",
       "37                                       1  \n",
       "\n",
       "[700 rows x 15 columns]"
      ]
     },
     "execution_count": 224,
     "metadata": {},
     "output_type": "execute_result"
    }
   ],
   "source": [
    "xtrain"
   ]
  },
  {
   "cell_type": "code",
   "execution_count": 225,
   "metadata": {},
   "outputs": [
    {
     "data": {
      "text/html": [
       "<div>\n",
       "<style scoped>\n",
       "    .dataframe tbody tr th:only-of-type {\n",
       "        vertical-align: middle;\n",
       "    }\n",
       "\n",
       "    .dataframe tbody tr th {\n",
       "        vertical-align: top;\n",
       "    }\n",
       "\n",
       "    .dataframe thead th {\n",
       "        text-align: right;\n",
       "    }\n",
       "</style>\n",
       "<table border=\"1\" class=\"dataframe\">\n",
       "  <thead>\n",
       "    <tr style=\"text-align: right;\">\n",
       "      <th></th>\n",
       "      <th>3.Which division are you from?</th>\n",
       "      <th>4.What is your last semester grade?</th>\n",
       "      <th>5.How many hours do you study on a daily basis?</th>\n",
       "      <th>6.Do you have any problem in any particular subject?Please write the subject's name.</th>\n",
       "      <th>9.Do you have personal computer/laptop or mobile phone ?</th>\n",
       "      <th>10.Are you attentive in your studies but yet not understanding any particular subject?Please write the subject's name.</th>\n",
       "      <th>11.Are you associated with any extra-curricular activities?</th>\n",
       "      <th>12.What is your nature?</th>\n",
       "      <th>14.Do you like your university environment?</th>\n",
       "      <th>15.Are you more passionate about something else rather than your study?</th>\n",
       "      <th>23.What is your family type?(2)</th>\n",
       "      <th>25.What do you think about our university education system?</th>\n",
       "      <th>26.Do you think any subject is not necessary or you could ignore if you can?Please write the subject's name.(Ex-art of living, Bangladesh studies etc.)</th>\n",
       "      <th>27.Do you have any familial problems?(Ex-financial issue, family related issue etc).</th>\n",
       "      <th>29.Are you responsive in your class?</th>\n",
       "    </tr>\n",
       "  </thead>\n",
       "  <tbody>\n",
       "    <tr>\n",
       "      <th>507</th>\n",
       "      <td>2</td>\n",
       "      <td>6</td>\n",
       "      <td>0</td>\n",
       "      <td>4</td>\n",
       "      <td>3</td>\n",
       "      <td>2</td>\n",
       "      <td>1</td>\n",
       "      <td>1</td>\n",
       "      <td>0</td>\n",
       "      <td>0</td>\n",
       "      <td>1</td>\n",
       "      <td>2</td>\n",
       "      <td>39</td>\n",
       "      <td>0</td>\n",
       "      <td>0</td>\n",
       "    </tr>\n",
       "    <tr>\n",
       "      <th>818</th>\n",
       "      <td>2</td>\n",
       "      <td>6</td>\n",
       "      <td>2</td>\n",
       "      <td>41</td>\n",
       "      <td>3</td>\n",
       "      <td>36</td>\n",
       "      <td>0</td>\n",
       "      <td>0</td>\n",
       "      <td>3</td>\n",
       "      <td>0</td>\n",
       "      <td>0</td>\n",
       "      <td>2</td>\n",
       "      <td>39</td>\n",
       "      <td>0</td>\n",
       "      <td>1</td>\n",
       "    </tr>\n",
       "    <tr>\n",
       "      <th>452</th>\n",
       "      <td>2</td>\n",
       "      <td>7</td>\n",
       "      <td>2</td>\n",
       "      <td>41</td>\n",
       "      <td>3</td>\n",
       "      <td>36</td>\n",
       "      <td>1</td>\n",
       "      <td>1</td>\n",
       "      <td>1</td>\n",
       "      <td>0</td>\n",
       "      <td>1</td>\n",
       "      <td>2</td>\n",
       "      <td>5</td>\n",
       "      <td>0</td>\n",
       "      <td>1</td>\n",
       "    </tr>\n",
       "    <tr>\n",
       "      <th>368</th>\n",
       "      <td>1</td>\n",
       "      <td>0</td>\n",
       "      <td>2</td>\n",
       "      <td>41</td>\n",
       "      <td>1</td>\n",
       "      <td>36</td>\n",
       "      <td>1</td>\n",
       "      <td>0</td>\n",
       "      <td>1</td>\n",
       "      <td>1</td>\n",
       "      <td>0</td>\n",
       "      <td>1</td>\n",
       "      <td>39</td>\n",
       "      <td>1</td>\n",
       "      <td>1</td>\n",
       "    </tr>\n",
       "    <tr>\n",
       "      <th>242</th>\n",
       "      <td>5</td>\n",
       "      <td>2</td>\n",
       "      <td>2</td>\n",
       "      <td>49</td>\n",
       "      <td>0</td>\n",
       "      <td>2</td>\n",
       "      <td>1</td>\n",
       "      <td>0</td>\n",
       "      <td>0</td>\n",
       "      <td>1</td>\n",
       "      <td>1</td>\n",
       "      <td>3</td>\n",
       "      <td>45</td>\n",
       "      <td>1</td>\n",
       "      <td>1</td>\n",
       "    </tr>\n",
       "    <tr>\n",
       "      <th>...</th>\n",
       "      <td>...</td>\n",
       "      <td>...</td>\n",
       "      <td>...</td>\n",
       "      <td>...</td>\n",
       "      <td>...</td>\n",
       "      <td>...</td>\n",
       "      <td>...</td>\n",
       "      <td>...</td>\n",
       "      <td>...</td>\n",
       "      <td>...</td>\n",
       "      <td>...</td>\n",
       "      <td>...</td>\n",
       "      <td>...</td>\n",
       "      <td>...</td>\n",
       "      <td>...</td>\n",
       "    </tr>\n",
       "    <tr>\n",
       "      <th>459</th>\n",
       "      <td>1</td>\n",
       "      <td>6</td>\n",
       "      <td>2</td>\n",
       "      <td>22</td>\n",
       "      <td>1</td>\n",
       "      <td>15</td>\n",
       "      <td>0</td>\n",
       "      <td>1</td>\n",
       "      <td>1</td>\n",
       "      <td>1</td>\n",
       "      <td>0</td>\n",
       "      <td>3</td>\n",
       "      <td>5</td>\n",
       "      <td>0</td>\n",
       "      <td>1</td>\n",
       "    </tr>\n",
       "    <tr>\n",
       "      <th>415</th>\n",
       "      <td>2</td>\n",
       "      <td>7</td>\n",
       "      <td>2</td>\n",
       "      <td>4</td>\n",
       "      <td>1</td>\n",
       "      <td>2</td>\n",
       "      <td>2</td>\n",
       "      <td>0</td>\n",
       "      <td>0</td>\n",
       "      <td>0</td>\n",
       "      <td>0</td>\n",
       "      <td>1</td>\n",
       "      <td>3</td>\n",
       "      <td>0</td>\n",
       "      <td>2</td>\n",
       "    </tr>\n",
       "    <tr>\n",
       "      <th>61</th>\n",
       "      <td>2</td>\n",
       "      <td>0</td>\n",
       "      <td>1</td>\n",
       "      <td>41</td>\n",
       "      <td>1</td>\n",
       "      <td>36</td>\n",
       "      <td>1</td>\n",
       "      <td>0</td>\n",
       "      <td>1</td>\n",
       "      <td>1</td>\n",
       "      <td>0</td>\n",
       "      <td>1</td>\n",
       "      <td>39</td>\n",
       "      <td>1</td>\n",
       "      <td>1</td>\n",
       "    </tr>\n",
       "    <tr>\n",
       "      <th>347</th>\n",
       "      <td>1</td>\n",
       "      <td>2</td>\n",
       "      <td>0</td>\n",
       "      <td>41</td>\n",
       "      <td>1</td>\n",
       "      <td>36</td>\n",
       "      <td>0</td>\n",
       "      <td>0</td>\n",
       "      <td>0</td>\n",
       "      <td>1</td>\n",
       "      <td>0</td>\n",
       "      <td>1</td>\n",
       "      <td>39</td>\n",
       "      <td>1</td>\n",
       "      <td>1</td>\n",
       "    </tr>\n",
       "    <tr>\n",
       "      <th>349</th>\n",
       "      <td>1</td>\n",
       "      <td>0</td>\n",
       "      <td>1</td>\n",
       "      <td>5</td>\n",
       "      <td>1</td>\n",
       "      <td>3</td>\n",
       "      <td>1</td>\n",
       "      <td>0</td>\n",
       "      <td>1</td>\n",
       "      <td>0</td>\n",
       "      <td>0</td>\n",
       "      <td>1</td>\n",
       "      <td>39</td>\n",
       "      <td>0</td>\n",
       "      <td>1</td>\n",
       "    </tr>\n",
       "  </tbody>\n",
       "</table>\n",
       "<p>300 rows × 15 columns</p>\n",
       "</div>"
      ],
      "text/plain": [
       "     3.Which division are you from?  4.What is your last semester grade?  \\\n",
       "507                               2                                    6   \n",
       "818                               2                                    6   \n",
       "452                               2                                    7   \n",
       "368                               1                                    0   \n",
       "242                               5                                    2   \n",
       "..                              ...                                  ...   \n",
       "459                               1                                    6   \n",
       "415                               2                                    7   \n",
       "61                                2                                    0   \n",
       "347                               1                                    2   \n",
       "349                               1                                    0   \n",
       "\n",
       "     5.How many hours do you study on a daily basis?  \\\n",
       "507                                                0   \n",
       "818                                                2   \n",
       "452                                                2   \n",
       "368                                                2   \n",
       "242                                                2   \n",
       "..                                               ...   \n",
       "459                                                2   \n",
       "415                                                2   \n",
       "61                                                 1   \n",
       "347                                                0   \n",
       "349                                                1   \n",
       "\n",
       "     6.Do you have any problem in any particular subject?Please write the subject's name.  \\\n",
       "507                                                  4                                      \n",
       "818                                                 41                                      \n",
       "452                                                 41                                      \n",
       "368                                                 41                                      \n",
       "242                                                 49                                      \n",
       "..                                                 ...                                      \n",
       "459                                                 22                                      \n",
       "415                                                  4                                      \n",
       "61                                                  41                                      \n",
       "347                                                 41                                      \n",
       "349                                                  5                                      \n",
       "\n",
       "     9.Do you have personal computer/laptop or mobile phone ?  \\\n",
       "507                                                  3          \n",
       "818                                                  3          \n",
       "452                                                  3          \n",
       "368                                                  1          \n",
       "242                                                  0          \n",
       "..                                                 ...          \n",
       "459                                                  1          \n",
       "415                                                  1          \n",
       "61                                                   1          \n",
       "347                                                  1          \n",
       "349                                                  1          \n",
       "\n",
       "     10.Are you attentive in your studies but yet not understanding any particular subject?Please write the subject's name.  \\\n",
       "507                                                  2                                                                        \n",
       "818                                                 36                                                                        \n",
       "452                                                 36                                                                        \n",
       "368                                                 36                                                                        \n",
       "242                                                  2                                                                        \n",
       "..                                                 ...                                                                        \n",
       "459                                                 15                                                                        \n",
       "415                                                  2                                                                        \n",
       "61                                                  36                                                                        \n",
       "347                                                 36                                                                        \n",
       "349                                                  3                                                                        \n",
       "\n",
       "     11.Are you associated with any extra-curricular activities?  \\\n",
       "507                                                  1             \n",
       "818                                                  0             \n",
       "452                                                  1             \n",
       "368                                                  1             \n",
       "242                                                  1             \n",
       "..                                                 ...             \n",
       "459                                                  0             \n",
       "415                                                  2             \n",
       "61                                                   1             \n",
       "347                                                  0             \n",
       "349                                                  1             \n",
       "\n",
       "     12.What is your nature?  14.Do you like your university environment?  \\\n",
       "507                        1                                            0   \n",
       "818                        0                                            3   \n",
       "452                        1                                            1   \n",
       "368                        0                                            1   \n",
       "242                        0                                            0   \n",
       "..                       ...                                          ...   \n",
       "459                        1                                            1   \n",
       "415                        0                                            0   \n",
       "61                         0                                            1   \n",
       "347                        0                                            0   \n",
       "349                        0                                            1   \n",
       "\n",
       "     15.Are you more passionate about something else rather than your study?  \\\n",
       "507                                                  0                         \n",
       "818                                                  0                         \n",
       "452                                                  0                         \n",
       "368                                                  1                         \n",
       "242                                                  1                         \n",
       "..                                                 ...                         \n",
       "459                                                  1                         \n",
       "415                                                  0                         \n",
       "61                                                   1                         \n",
       "347                                                  1                         \n",
       "349                                                  0                         \n",
       "\n",
       "     23.What is your family type?(2)  \\\n",
       "507                                1   \n",
       "818                                0   \n",
       "452                                1   \n",
       "368                                0   \n",
       "242                                1   \n",
       "..                               ...   \n",
       "459                                0   \n",
       "415                                0   \n",
       "61                                 0   \n",
       "347                                0   \n",
       "349                                0   \n",
       "\n",
       "     25.What do you think about our university education system?   \\\n",
       "507                                                  2              \n",
       "818                                                  2              \n",
       "452                                                  2              \n",
       "368                                                  1              \n",
       "242                                                  3              \n",
       "..                                                 ...              \n",
       "459                                                  3              \n",
       "415                                                  1              \n",
       "61                                                   1              \n",
       "347                                                  1              \n",
       "349                                                  1              \n",
       "\n",
       "     26.Do you think any subject is not necessary or you could ignore if you can?Please write the subject's name.(Ex-art of living, Bangladesh studies etc.)  \\\n",
       "507                                                 39                                                                                                         \n",
       "818                                                 39                                                                                                         \n",
       "452                                                  5                                                                                                         \n",
       "368                                                 39                                                                                                         \n",
       "242                                                 45                                                                                                         \n",
       "..                                                 ...                                                                                                         \n",
       "459                                                  5                                                                                                         \n",
       "415                                                  3                                                                                                         \n",
       "61                                                  39                                                                                                         \n",
       "347                                                 39                                                                                                         \n",
       "349                                                 39                                                                                                         \n",
       "\n",
       "     27.Do you have any familial problems?(Ex-financial issue, family related issue etc).  \\\n",
       "507                                                  0                                      \n",
       "818                                                  0                                      \n",
       "452                                                  0                                      \n",
       "368                                                  1                                      \n",
       "242                                                  1                                      \n",
       "..                                                 ...                                      \n",
       "459                                                  0                                      \n",
       "415                                                  0                                      \n",
       "61                                                   1                                      \n",
       "347                                                  1                                      \n",
       "349                                                  0                                      \n",
       "\n",
       "     29.Are you responsive in your class?   \n",
       "507                                      0  \n",
       "818                                      1  \n",
       "452                                      1  \n",
       "368                                      1  \n",
       "242                                      1  \n",
       "..                                     ...  \n",
       "459                                      1  \n",
       "415                                      2  \n",
       "61                                       1  \n",
       "347                                      1  \n",
       "349                                      1  \n",
       "\n",
       "[300 rows x 15 columns]"
      ]
     },
     "execution_count": 225,
     "metadata": {},
     "output_type": "execute_result"
    }
   ],
   "source": [
    "xtest"
   ]
  },
  {
   "cell_type": "code",
   "execution_count": 226,
   "metadata": {},
   "outputs": [],
   "source": [
    "from sklearn.tree import DecisionTreeClassifier"
   ]
  },
  {
   "cell_type": "code",
   "execution_count": 227,
   "metadata": {},
   "outputs": [],
   "source": [
    "import numpy as np"
   ]
  },
  {
   "cell_type": "code",
   "execution_count": 228,
   "metadata": {},
   "outputs": [],
   "source": [
    "dtf = DecisionTreeClassifier()"
   ]
  },
  {
   "cell_type": "code",
   "execution_count": 229,
   "metadata": {},
   "outputs": [
    {
     "data": {
      "text/plain": [
       "DecisionTreeClassifier(ccp_alpha=0.0, class_weight=None, criterion='gini',\n",
       "                       max_depth=None, max_features=None, max_leaf_nodes=None,\n",
       "                       min_impurity_decrease=0.0, min_impurity_split=None,\n",
       "                       min_samples_leaf=1, min_samples_split=2,\n",
       "                       min_weight_fraction_leaf=0.0, presort='deprecated',\n",
       "                       random_state=None, splitter='best')"
      ]
     },
     "execution_count": 229,
     "metadata": {},
     "output_type": "execute_result"
    }
   ],
   "source": [
    "dtf.fit(xtrain,ytrain)"
   ]
  },
  {
   "cell_type": "code",
   "execution_count": 230,
   "metadata": {},
   "outputs": [],
   "source": [
    "xinput = np.array([2,6,1,41,1,36,1,0,0,1,1,1,25,1,2])"
   ]
  },
  {
   "cell_type": "code",
   "execution_count": 231,
   "metadata": {},
   "outputs": [],
   "source": [
    "y_predict = dtf.predict([xinput])"
   ]
  },
  {
   "cell_type": "code",
   "execution_count": 232,
   "metadata": {},
   "outputs": [
    {
     "data": {
      "text/plain": [
       "array(['Slow'], dtype=object)"
      ]
     },
     "execution_count": 232,
     "metadata": {},
     "output_type": "execute_result"
    }
   ],
   "source": [
    "y_predict "
   ]
  },
  {
   "cell_type": "code",
   "execution_count": 233,
   "metadata": {},
   "outputs": [
    {
     "data": {
      "text/plain": [
       "0.99"
      ]
     },
     "execution_count": 233,
     "metadata": {},
     "output_type": "execute_result"
    }
   ],
   "source": [
    "dtf.score(xtest,ytest)"
   ]
  },
  {
   "cell_type": "code",
   "execution_count": 234,
   "metadata": {},
   "outputs": [],
   "source": [
    "pred = dtf.predict(xtest)"
   ]
  },
  {
   "cell_type": "code",
   "execution_count": 235,
   "metadata": {},
   "outputs": [
    {
     "data": {
      "text/plain": [
       "array(['Slow', 'Slow', 'Slow', 'Fast', 'Fast', 'Slow', 'Fast', 'Average',\n",
       "       'Average', 'Slow', 'Slow', 'Fast', 'Fast', 'Fast', 'Average',\n",
       "       'Average', 'Average', 'Fast', 'Average', 'Slow', 'Slow', 'Slow',\n",
       "       'Slow', 'Slow', 'Slow', 'Fast', 'Average', 'Slow', 'Slow',\n",
       "       'Average', 'Slow', 'Slow', 'Slow', 'Slow', 'Average', 'Average',\n",
       "       'Average', 'Slow', 'Slow', 'Slow', 'Fast', 'Slow', 'Average',\n",
       "       'Average', 'Fast', 'Slow', 'Slow', 'Average', 'Slow', 'Slow',\n",
       "       'Fast', 'Average', 'Slow', 'Average', 'Fast', 'Slow', 'Slow',\n",
       "       'Slow', 'Slow', 'Fast', 'Average', 'Slow', 'Slow', 'Slow', 'Slow',\n",
       "       'Slow', 'Slow', 'Slow', 'Slow', 'Average', 'Slow', 'Fast',\n",
       "       'Average', 'Slow', 'Slow', 'Fast', 'Fast', 'Slow', 'Average',\n",
       "       'Slow', 'Fast', 'Slow', 'Slow', 'Slow', 'Slow', 'Slow', 'Slow',\n",
       "       'Slow', 'Slow', 'Average', 'Slow', 'Fast', 'Fast', 'Slow',\n",
       "       'Average', 'Slow', 'Slow', 'Slow', 'Fast', 'Fast', 'Average',\n",
       "       'Fast', 'Slow', 'Fast', 'Average', 'Slow', 'Slow', 'Average',\n",
       "       'Average', 'Slow', 'Slow', 'Slow', 'Average', 'Fast', 'Fast',\n",
       "       'Fast', 'Slow', 'Slow', 'Fast', 'Slow', 'Average', 'Fast', 'Fast',\n",
       "       'Slow', 'Slow', 'Fast', 'Average', 'Fast', 'Fast', 'Slow', 'Slow',\n",
       "       'Fast', 'Average', 'Average', 'Slow', 'Slow', 'Slow', 'Average',\n",
       "       'Fast', 'Slow', 'Average', 'Fast', 'Fast', 'Slow', 'Fast', 'Slow',\n",
       "       'Slow', 'Average', 'Slow', 'Average', 'Average', 'Slow', 'Slow',\n",
       "       'Slow', 'Fast', 'Average', 'Fast', 'Slow', 'Average', 'Fast',\n",
       "       'Fast', 'Fast', 'Average', 'Slow', 'Fast', 'Fast', 'Average',\n",
       "       'Fast', 'Average', 'Fast', 'Fast', 'Fast', 'Fast', 'Slow', 'Fast',\n",
       "       'Fast', 'Fast', 'Slow', 'Slow', 'Slow', 'Fast', 'Average', 'Fast',\n",
       "       'Fast', 'Slow', 'Average', 'Fast', 'Fast', 'Slow', 'Fast', 'Slow',\n",
       "       'Fast', 'Fast', 'Average', 'Slow', 'Slow', 'Slow', 'Fast', 'Slow',\n",
       "       'Fast', 'Slow', 'Fast', 'Fast', 'Fast', 'Slow', 'Slow', 'Fast',\n",
       "       'Average', 'Fast', 'Slow', 'Slow', 'Average', 'Slow', 'Slow',\n",
       "       'Slow', 'Fast', 'Slow', 'Fast', 'Slow', 'Fast', 'Fast', 'Slow',\n",
       "       'Fast', 'Slow', 'Fast', 'Slow', 'Fast', 'Slow', 'Slow', 'Average',\n",
       "       'Average', 'Fast', 'Slow', 'Slow', 'Average', 'Slow', 'Slow',\n",
       "       'Slow', 'Fast', 'Fast', 'Slow', 'Fast', 'Average', 'Slow', 'Slow',\n",
       "       'Slow', 'Fast', 'Slow', 'Fast', 'Fast', 'Average', 'Fast',\n",
       "       'Average', 'Slow', 'Slow', 'Slow', 'Slow', 'Fast', 'Fast', 'Slow',\n",
       "       'Fast', 'Fast', 'Average', 'Fast', 'Slow', 'Slow', 'Average',\n",
       "       'Slow', 'Slow', 'Fast', 'Slow', 'Average', 'Slow', 'Average',\n",
       "       'Slow', 'Slow', 'Slow', 'Slow', 'Fast', 'Fast', 'Slow', 'Slow',\n",
       "       'Fast', 'Fast', 'Fast', 'Fast', 'Slow', 'Slow', 'Slow', 'Average',\n",
       "       'Slow', 'Average', 'Average', 'Slow', 'Slow', 'Slow', 'Slow',\n",
       "       'Average', 'Fast', 'Average'], dtype=object)"
      ]
     },
     "execution_count": 235,
     "metadata": {},
     "output_type": "execute_result"
    }
   ],
   "source": [
    "pred"
   ]
  },
  {
   "cell_type": "code",
   "execution_count": 236,
   "metadata": {},
   "outputs": [],
   "source": [
    "from sklearn.metrics import accuracy_score "
   ]
  },
  {
   "cell_type": "code",
   "execution_count": 237,
   "metadata": {},
   "outputs": [
    {
     "data": {
      "text/plain": [
       "0.99"
      ]
     },
     "execution_count": 237,
     "metadata": {},
     "output_type": "execute_result"
    }
   ],
   "source": [
    "accuracy_score(ytest,pred)"
   ]
  },
  {
   "cell_type": "code",
   "execution_count": 238,
   "metadata": {},
   "outputs": [],
   "source": [
    "from sklearn.metrics import confusion_matrix"
   ]
  },
  {
   "cell_type": "code",
   "execution_count": 239,
   "metadata": {},
   "outputs": [
    {
     "data": {
      "text/plain": [
       "array([[ 60,   2,   0],\n",
       "       [  0,  93,   0],\n",
       "       [  1,   0, 144]], dtype=int64)"
      ]
     },
     "execution_count": 239,
     "metadata": {},
     "output_type": "execute_result"
    }
   ],
   "source": [
    "confusion_matrix(ytest,pred)"
   ]
  },
  {
   "cell_type": "code",
   "execution_count": 240,
   "metadata": {},
   "outputs": [],
   "source": [
    "from sklearn.metrics import classification_report"
   ]
  },
  {
   "cell_type": "code",
   "execution_count": 241,
   "metadata": {},
   "outputs": [
    {
     "name": "stdout",
     "output_type": "stream",
     "text": [
      "              precision    recall  f1-score   support\n",
      "\n",
      "     Average       0.98      0.97      0.98        62\n",
      "        Fast       0.98      1.00      0.99        93\n",
      "        Slow       1.00      0.99      1.00       145\n",
      "\n",
      "    accuracy                           0.99       300\n",
      "   macro avg       0.99      0.99      0.99       300\n",
      "weighted avg       0.99      0.99      0.99       300\n",
      "\n"
     ]
    }
   ],
   "source": [
    "print(classification_report(ytest,pred))"
   ]
  },
  {
   "cell_type": "code",
   "execution_count": 242,
   "metadata": {},
   "outputs": [],
   "source": [
    "from sklearn.ensemble import RandomForestClassifier"
   ]
  },
  {
   "cell_type": "code",
   "execution_count": 243,
   "metadata": {},
   "outputs": [],
   "source": [
    "Rclf = RandomForestClassifier()"
   ]
  },
  {
   "cell_type": "code",
   "execution_count": 244,
   "metadata": {},
   "outputs": [
    {
     "data": {
      "text/plain": [
       "RandomForestClassifier(bootstrap=True, ccp_alpha=0.0, class_weight=None,\n",
       "                       criterion='gini', max_depth=None, max_features='auto',\n",
       "                       max_leaf_nodes=None, max_samples=None,\n",
       "                       min_impurity_decrease=0.0, min_impurity_split=None,\n",
       "                       min_samples_leaf=1, min_samples_split=2,\n",
       "                       min_weight_fraction_leaf=0.0, n_estimators=100,\n",
       "                       n_jobs=None, oob_score=False, random_state=None,\n",
       "                       verbose=0, warm_start=False)"
      ]
     },
     "execution_count": 244,
     "metadata": {},
     "output_type": "execute_result"
    }
   ],
   "source": [
    "Rclf.fit(xtrain,ytrain)"
   ]
  },
  {
   "cell_type": "code",
   "execution_count": 245,
   "metadata": {},
   "outputs": [
    {
     "data": {
      "text/plain": [
       "0.9766666666666667"
      ]
     },
     "execution_count": 245,
     "metadata": {},
     "output_type": "execute_result"
    }
   ],
   "source": [
    "Rclf.score(xtest,ytest)"
   ]
  },
  {
   "cell_type": "code",
   "execution_count": 246,
   "metadata": {},
   "outputs": [],
   "source": [
    "pred = Rclf.predict(xtest)"
   ]
  },
  {
   "cell_type": "code",
   "execution_count": 247,
   "metadata": {},
   "outputs": [
    {
     "data": {
      "text/plain": [
       "array(['Slow', 'Slow', 'Slow', 'Fast', 'Fast', 'Slow', 'Fast', 'Average',\n",
       "       'Average', 'Slow', 'Slow', 'Fast', 'Fast', 'Fast', 'Slow',\n",
       "       'Average', 'Average', 'Fast', 'Average', 'Slow', 'Slow', 'Slow',\n",
       "       'Slow', 'Slow', 'Slow', 'Fast', 'Average', 'Slow', 'Slow',\n",
       "       'Average', 'Slow', 'Slow', 'Slow', 'Slow', 'Slow', 'Average',\n",
       "       'Average', 'Slow', 'Slow', 'Slow', 'Fast', 'Slow', 'Average',\n",
       "       'Average', 'Fast', 'Slow', 'Slow', 'Average', 'Slow', 'Slow',\n",
       "       'Fast', 'Average', 'Slow', 'Average', 'Fast', 'Slow', 'Slow',\n",
       "       'Slow', 'Slow', 'Fast', 'Average', 'Slow', 'Slow', 'Slow', 'Slow',\n",
       "       'Slow', 'Slow', 'Slow', 'Slow', 'Average', 'Slow', 'Fast',\n",
       "       'Average', 'Slow', 'Slow', 'Fast', 'Fast', 'Slow', 'Average',\n",
       "       'Slow', 'Fast', 'Slow', 'Slow', 'Slow', 'Slow', 'Slow', 'Slow',\n",
       "       'Slow', 'Slow', 'Average', 'Slow', 'Fast', 'Fast', 'Slow',\n",
       "       'Average', 'Slow', 'Slow', 'Slow', 'Fast', 'Fast', 'Average',\n",
       "       'Fast', 'Slow', 'Fast', 'Average', 'Slow', 'Slow', 'Average',\n",
       "       'Average', 'Slow', 'Slow', 'Slow', 'Slow', 'Fast', 'Fast', 'Fast',\n",
       "       'Slow', 'Slow', 'Fast', 'Slow', 'Average', 'Fast', 'Fast', 'Slow',\n",
       "       'Slow', 'Fast', 'Average', 'Fast', 'Fast', 'Slow', 'Slow', 'Fast',\n",
       "       'Slow', 'Average', 'Slow', 'Slow', 'Slow', 'Slow', 'Fast', 'Slow',\n",
       "       'Average', 'Fast', 'Fast', 'Slow', 'Fast', 'Slow', 'Slow', 'Slow',\n",
       "       'Slow', 'Slow', 'Average', 'Slow', 'Slow', 'Slow', 'Fast',\n",
       "       'Average', 'Fast', 'Slow', 'Average', 'Fast', 'Fast', 'Fast',\n",
       "       'Average', 'Slow', 'Fast', 'Fast', 'Average', 'Fast', 'Average',\n",
       "       'Fast', 'Fast', 'Fast', 'Fast', 'Slow', 'Fast', 'Fast', 'Fast',\n",
       "       'Slow', 'Slow', 'Slow', 'Fast', 'Average', 'Fast', 'Fast', 'Slow',\n",
       "       'Average', 'Fast', 'Fast', 'Slow', 'Fast', 'Slow', 'Fast', 'Fast',\n",
       "       'Average', 'Slow', 'Slow', 'Slow', 'Fast', 'Slow', 'Fast', 'Slow',\n",
       "       'Fast', 'Fast', 'Fast', 'Slow', 'Slow', 'Fast', 'Average', 'Fast',\n",
       "       'Slow', 'Slow', 'Average', 'Slow', 'Slow', 'Slow', 'Fast', 'Slow',\n",
       "       'Fast', 'Slow', 'Fast', 'Fast', 'Slow', 'Fast', 'Slow', 'Fast',\n",
       "       'Slow', 'Fast', 'Slow', 'Slow', 'Average', 'Average', 'Fast',\n",
       "       'Slow', 'Slow', 'Average', 'Slow', 'Slow', 'Slow', 'Fast', 'Fast',\n",
       "       'Slow', 'Fast', 'Average', 'Slow', 'Slow', 'Slow', 'Fast', 'Slow',\n",
       "       'Fast', 'Fast', 'Average', 'Average', 'Average', 'Slow', 'Slow',\n",
       "       'Slow', 'Slow', 'Fast', 'Fast', 'Slow', 'Fast', 'Fast', 'Average',\n",
       "       'Fast', 'Slow', 'Slow', 'Average', 'Slow', 'Slow', 'Fast', 'Slow',\n",
       "       'Average', 'Slow', 'Average', 'Slow', 'Slow', 'Slow', 'Slow',\n",
       "       'Fast', 'Fast', 'Slow', 'Slow', 'Fast', 'Fast', 'Fast', 'Fast',\n",
       "       'Slow', 'Slow', 'Slow', 'Average', 'Slow', 'Average', 'Average',\n",
       "       'Slow', 'Slow', 'Slow', 'Slow', 'Average', 'Fast', 'Average'],\n",
       "      dtype=object)"
      ]
     },
     "execution_count": 247,
     "metadata": {},
     "output_type": "execute_result"
    }
   ],
   "source": [
    "pred"
   ]
  },
  {
   "cell_type": "code",
   "execution_count": 248,
   "metadata": {},
   "outputs": [],
   "source": [
    "from sklearn.metrics import accuracy_score "
   ]
  },
  {
   "cell_type": "code",
   "execution_count": 249,
   "metadata": {},
   "outputs": [
    {
     "data": {
      "text/plain": [
       "0.9766666666666667"
      ]
     },
     "execution_count": 249,
     "metadata": {},
     "output_type": "execute_result"
    }
   ],
   "source": [
    "accuracy_score(ytest,pred)"
   ]
  },
  {
   "cell_type": "code",
   "execution_count": 250,
   "metadata": {},
   "outputs": [],
   "source": [
    "from sklearn.metrics import confusion_matrix"
   ]
  },
  {
   "cell_type": "code",
   "execution_count": 251,
   "metadata": {},
   "outputs": [
    {
     "data": {
      "text/plain": [
       "array([[ 55,   1,   6],\n",
       "       [  0,  93,   0],\n",
       "       [  0,   0, 145]], dtype=int64)"
      ]
     },
     "execution_count": 251,
     "metadata": {},
     "output_type": "execute_result"
    }
   ],
   "source": [
    "confusion_matrix(ytest,pred)"
   ]
  },
  {
   "cell_type": "code",
   "execution_count": 252,
   "metadata": {},
   "outputs": [],
   "source": [
    "from sklearn.metrics import classification_report"
   ]
  },
  {
   "cell_type": "code",
   "execution_count": 253,
   "metadata": {},
   "outputs": [
    {
     "name": "stdout",
     "output_type": "stream",
     "text": [
      "              precision    recall  f1-score   support\n",
      "\n",
      "     Average       1.00      0.89      0.94        62\n",
      "        Fast       0.99      1.00      0.99        93\n",
      "        Slow       0.96      1.00      0.98       145\n",
      "\n",
      "    accuracy                           0.98       300\n",
      "   macro avg       0.98      0.96      0.97       300\n",
      "weighted avg       0.98      0.98      0.98       300\n",
      "\n"
     ]
    }
   ],
   "source": [
    "print(classification_report(ytest,pred))"
   ]
  },
  {
   "cell_type": "code",
   "execution_count": 254,
   "metadata": {},
   "outputs": [],
   "source": [
    "from sklearn.naive_bayes import GaussianNB"
   ]
  },
  {
   "cell_type": "code",
   "execution_count": 255,
   "metadata": {},
   "outputs": [],
   "source": [
    "GNB = GaussianNB()"
   ]
  },
  {
   "cell_type": "code",
   "execution_count": 256,
   "metadata": {},
   "outputs": [
    {
     "data": {
      "text/plain": [
       "GaussianNB(priors=None, var_smoothing=1e-09)"
      ]
     },
     "execution_count": 256,
     "metadata": {},
     "output_type": "execute_result"
    }
   ],
   "source": [
    "GNB.fit(xtrain,ytrain)"
   ]
  },
  {
   "cell_type": "code",
   "execution_count": 257,
   "metadata": {},
   "outputs": [
    {
     "data": {
      "text/plain": [
       "0.81"
      ]
     },
     "execution_count": 257,
     "metadata": {},
     "output_type": "execute_result"
    }
   ],
   "source": [
    "GNB.score(xtest,ytest)"
   ]
  },
  {
   "cell_type": "code",
   "execution_count": 258,
   "metadata": {},
   "outputs": [],
   "source": [
    "pred = GNB.predict(xtest)"
   ]
  },
  {
   "cell_type": "code",
   "execution_count": 259,
   "metadata": {},
   "outputs": [
    {
     "data": {
      "text/plain": [
       "array(['Slow', 'Slow', 'Slow', 'Fast', 'Fast', 'Slow', 'Fast', 'Slow',\n",
       "       'Average', 'Average', 'Slow', 'Fast', 'Slow', 'Fast', 'Slow',\n",
       "       'Fast', 'Average', 'Fast', 'Fast', 'Slow', 'Slow', 'Slow', 'Slow',\n",
       "       'Slow', 'Slow', 'Fast', 'Average', 'Slow', 'Slow', 'Average',\n",
       "       'Slow', 'Slow', 'Slow', 'Slow', 'Slow', 'Average', 'Average',\n",
       "       'Slow', 'Slow', 'Slow', 'Slow', 'Slow', 'Fast', 'Average', 'Fast',\n",
       "       'Slow', 'Slow', 'Average', 'Slow', 'Slow', 'Slow', 'Average',\n",
       "       'Slow', 'Average', 'Fast', 'Slow', 'Slow', 'Slow', 'Slow', 'Fast',\n",
       "       'Average', 'Fast', 'Slow', 'Slow', 'Slow', 'Average', 'Slow',\n",
       "       'Slow', 'Slow', 'Fast', 'Slow', 'Fast', 'Average', 'Slow', 'Slow',\n",
       "       'Fast', 'Fast', 'Slow', 'Average', 'Slow', 'Fast', 'Slow', 'Slow',\n",
       "       'Slow', 'Slow', 'Slow', 'Slow', 'Slow', 'Slow', 'Average', 'Slow',\n",
       "       'Fast', 'Slow', 'Slow', 'Slow', 'Slow', 'Slow', 'Slow', 'Fast',\n",
       "       'Fast', 'Average', 'Fast', 'Slow', 'Fast', 'Fast', 'Slow', 'Fast',\n",
       "       'Slow', 'Average', 'Slow', 'Slow', 'Slow', 'Slow', 'Fast', 'Slow',\n",
       "       'Fast', 'Slow', 'Slow', 'Fast', 'Slow', 'Average', 'Fast', 'Fast',\n",
       "       'Average', 'Slow', 'Slow', 'Slow', 'Fast', 'Slow', 'Slow', 'Slow',\n",
       "       'Fast', 'Slow', 'Average', 'Slow', 'Slow', 'Slow', 'Slow', 'Fast',\n",
       "       'Slow', 'Fast', 'Fast', 'Fast', 'Slow', 'Fast', 'Slow', 'Slow',\n",
       "       'Slow', 'Slow', 'Slow', 'Average', 'Slow', 'Fast', 'Slow', 'Fast',\n",
       "       'Fast', 'Slow', 'Slow', 'Fast', 'Fast', 'Fast', 'Fast', 'Average',\n",
       "       'Slow', 'Fast', 'Fast', 'Average', 'Slow', 'Average', 'Fast',\n",
       "       'Fast', 'Fast', 'Fast', 'Slow', 'Fast', 'Fast', 'Fast', 'Slow',\n",
       "       'Slow', 'Fast', 'Fast', 'Fast', 'Fast', 'Slow', 'Slow', 'Average',\n",
       "       'Fast', 'Fast', 'Slow', 'Slow', 'Slow', 'Fast', 'Fast', 'Fast',\n",
       "       'Slow', 'Slow', 'Slow', 'Fast', 'Slow', 'Average', 'Average',\n",
       "       'Slow', 'Slow', 'Fast', 'Slow', 'Slow', 'Fast', 'Average', 'Fast',\n",
       "       'Slow', 'Slow', 'Average', 'Slow', 'Slow', 'Slow', 'Fast', 'Slow',\n",
       "       'Fast', 'Slow', 'Fast', 'Fast', 'Slow', 'Fast', 'Slow', 'Slow',\n",
       "       'Slow', 'Slow', 'Slow', 'Slow', 'Fast', 'Average', 'Fast', 'Slow',\n",
       "       'Slow', 'Average', 'Slow', 'Slow', 'Slow', 'Fast', 'Fast', 'Slow',\n",
       "       'Fast', 'Average', 'Slow', 'Slow', 'Slow', 'Slow', 'Slow', 'Fast',\n",
       "       'Fast', 'Fast', 'Average', 'Fast', 'Slow', 'Slow', 'Slow',\n",
       "       'Average', 'Fast', 'Slow', 'Slow', 'Fast', 'Fast', 'Average',\n",
       "       'Fast', 'Slow', 'Slow', 'Fast', 'Slow', 'Slow', 'Fast', 'Slow',\n",
       "       'Fast', 'Fast', 'Average', 'Slow', 'Slow', 'Slow', 'Slow', 'Fast',\n",
       "       'Fast', 'Slow', 'Slow', 'Fast', 'Fast', 'Slow', 'Fast', 'Slow',\n",
       "       'Fast', 'Slow', 'Slow', 'Slow', 'Average', 'Average', 'Slow',\n",
       "       'Slow', 'Slow', 'Slow', 'Average', 'Fast', 'Average'], dtype='<U7')"
      ]
     },
     "execution_count": 259,
     "metadata": {},
     "output_type": "execute_result"
    }
   ],
   "source": [
    "pred"
   ]
  },
  {
   "cell_type": "code",
   "execution_count": 260,
   "metadata": {},
   "outputs": [],
   "source": [
    "from sklearn.metrics import accuracy_score "
   ]
  },
  {
   "cell_type": "code",
   "execution_count": 261,
   "metadata": {},
   "outputs": [
    {
     "data": {
      "text/plain": [
       "0.81"
      ]
     },
     "execution_count": 261,
     "metadata": {},
     "output_type": "execute_result"
    }
   ],
   "source": [
    "accuracy_score(ytest,pred)"
   ]
  },
  {
   "cell_type": "code",
   "execution_count": 262,
   "metadata": {},
   "outputs": [],
   "source": [
    "from sklearn.metrics import confusion_matrix"
   ]
  },
  {
   "cell_type": "code",
   "execution_count": 263,
   "metadata": {},
   "outputs": [
    {
     "data": {
      "text/plain": [
       "array([[ 35,  16,  11],\n",
       "       [  1,  74,  18],\n",
       "       [  5,   6, 134]], dtype=int64)"
      ]
     },
     "execution_count": 263,
     "metadata": {},
     "output_type": "execute_result"
    }
   ],
   "source": [
    "confusion_matrix(ytest,pred)"
   ]
  },
  {
   "cell_type": "code",
   "execution_count": 264,
   "metadata": {},
   "outputs": [],
   "source": [
    "from sklearn.metrics import classification_report"
   ]
  },
  {
   "cell_type": "code",
   "execution_count": 265,
   "metadata": {},
   "outputs": [
    {
     "name": "stdout",
     "output_type": "stream",
     "text": [
      "              precision    recall  f1-score   support\n",
      "\n",
      "     Average       0.85      0.56      0.68        62\n",
      "        Fast       0.77      0.80      0.78        93\n",
      "        Slow       0.82      0.92      0.87       145\n",
      "\n",
      "    accuracy                           0.81       300\n",
      "   macro avg       0.82      0.76      0.78       300\n",
      "weighted avg       0.81      0.81      0.80       300\n",
      "\n"
     ]
    }
   ],
   "source": [
    "print(classification_report(ytest,pred))"
   ]
  },
  {
   "cell_type": "code",
   "execution_count": 266,
   "metadata": {},
   "outputs": [],
   "source": [
    "from sklearn.naive_bayes import BernoulliNB"
   ]
  },
  {
   "cell_type": "code",
   "execution_count": 267,
   "metadata": {},
   "outputs": [],
   "source": [
    "BNG = BernoulliNB()"
   ]
  },
  {
   "cell_type": "code",
   "execution_count": 268,
   "metadata": {},
   "outputs": [
    {
     "data": {
      "text/plain": [
       "BernoulliNB(alpha=1.0, binarize=0.0, class_prior=None, fit_prior=True)"
      ]
     },
     "execution_count": 268,
     "metadata": {},
     "output_type": "execute_result"
    }
   ],
   "source": [
    "BNG.fit(xtrain,ytrain)"
   ]
  },
  {
   "cell_type": "code",
   "execution_count": 269,
   "metadata": {},
   "outputs": [
    {
     "data": {
      "text/plain": [
       "0.6433333333333333"
      ]
     },
     "execution_count": 269,
     "metadata": {},
     "output_type": "execute_result"
    }
   ],
   "source": [
    "BNG.score(xtest,ytest)"
   ]
  },
  {
   "cell_type": "code",
   "execution_count": 270,
   "metadata": {},
   "outputs": [],
   "source": [
    "pred = BNG.predict(xtest)"
   ]
  },
  {
   "cell_type": "code",
   "execution_count": 271,
   "metadata": {},
   "outputs": [
    {
     "data": {
      "text/plain": [
       "array(['Slow', 'Slow', 'Slow', 'Fast', 'Average', 'Slow', 'Fast', 'Slow',\n",
       "       'Fast', 'Slow', 'Slow', 'Fast', 'Slow', 'Fast', 'Slow', 'Slow',\n",
       "       'Average', 'Average', 'Slow', 'Slow', 'Slow', 'Slow', 'Slow',\n",
       "       'Slow', 'Slow', 'Fast', 'Slow', 'Slow', 'Slow', 'Slow', 'Slow',\n",
       "       'Slow', 'Slow', 'Slow', 'Slow', 'Average', 'Average', 'Slow',\n",
       "       'Slow', 'Slow', 'Slow', 'Slow', 'Fast', 'Slow', 'Fast', 'Slow',\n",
       "       'Slow', 'Fast', 'Slow', 'Slow', 'Slow', 'Slow', 'Slow', 'Average',\n",
       "       'Slow', 'Slow', 'Slow', 'Slow', 'Slow', 'Fast', 'Fast', 'Fast',\n",
       "       'Slow', 'Slow', 'Slow', 'Slow', 'Slow', 'Slow', 'Slow', 'Fast',\n",
       "       'Slow', 'Fast', 'Average', 'Slow', 'Slow', 'Fast', 'Slow', 'Slow',\n",
       "       'Fast', 'Fast', 'Average', 'Slow', 'Slow', 'Slow', 'Slow', 'Slow',\n",
       "       'Average', 'Slow', 'Slow', 'Average', 'Slow', 'Fast', 'Slow',\n",
       "       'Slow', 'Slow', 'Slow', 'Slow', 'Slow', 'Slow', 'Slow', 'Slow',\n",
       "       'Fast', 'Slow', 'Fast', 'Fast', 'Slow', 'Fast', 'Slow', 'Slow',\n",
       "       'Slow', 'Slow', 'Slow', 'Slow', 'Fast', 'Slow', 'Slow', 'Slow',\n",
       "       'Slow', 'Average', 'Slow', 'Fast', 'Slow', 'Slow', 'Slow', 'Fast',\n",
       "       'Slow', 'Slow', 'Fast', 'Slow', 'Slow', 'Slow', 'Slow', 'Slow',\n",
       "       'Slow', 'Slow', 'Slow', 'Slow', 'Slow', 'Fast', 'Slow', 'Fast',\n",
       "       'Fast', 'Fast', 'Slow', 'Slow', 'Slow', 'Slow', 'Slow', 'Fast',\n",
       "       'Slow', 'Average', 'Slow', 'Slow', 'Fast', 'Fast', 'Average',\n",
       "       'Slow', 'Slow', 'Slow', 'Fast', 'Slow', 'Fast', 'Fast', 'Slow',\n",
       "       'Fast', 'Fast', 'Slow', 'Slow', 'Slow', 'Fast', 'Fast', 'Slow',\n",
       "       'Fast', 'Fast', 'Slow', 'Fast', 'Average', 'Slow', 'Slow', 'Slow',\n",
       "       'Fast', 'Fast', 'Fast', 'Slow', 'Slow', 'Average', 'Fast', 'Fast',\n",
       "       'Fast', 'Slow', 'Slow', 'Slow', 'Slow', 'Slow', 'Slow', 'Slow',\n",
       "       'Slow', 'Fast', 'Slow', 'Fast', 'Slow', 'Slow', 'Slow', 'Fast',\n",
       "       'Slow', 'Slow', 'Fast', 'Fast', 'Fast', 'Slow', 'Slow', 'Slow',\n",
       "       'Slow', 'Slow', 'Slow', 'Fast', 'Slow', 'Slow', 'Slow', 'Fast',\n",
       "       'Fast', 'Slow', 'Fast', 'Slow', 'Slow', 'Slow', 'Slow', 'Slow',\n",
       "       'Slow', 'Slow', 'Slow', 'Slow', 'Slow', 'Slow', 'Average', 'Slow',\n",
       "       'Slow', 'Slow', 'Fast', 'Slow', 'Slow', 'Slow', 'Average', 'Slow',\n",
       "       'Slow', 'Slow', 'Slow', 'Slow', 'Average', 'Slow', 'Slow', 'Slow',\n",
       "       'Fast', 'Slow', 'Slow', 'Slow', 'Slow', 'Fast', 'Slow', 'Slow',\n",
       "       'Slow', 'Fast', 'Fast', 'Fast', 'Slow', 'Fast', 'Fast', 'Fast',\n",
       "       'Slow', 'Fast', 'Slow', 'Fast', 'Slow', 'Slow', 'Slow', 'Slow',\n",
       "       'Slow', 'Slow', 'Slow', 'Slow', 'Slow', 'Slow', 'Fast', 'Fast',\n",
       "       'Slow', 'Fast', 'Slow', 'Fast', 'Slow', 'Slow', 'Slow', 'Fast',\n",
       "       'Average', 'Slow', 'Slow', 'Slow', 'Slow', 'Fast', 'Slow',\n",
       "       'Average'], dtype='<U7')"
      ]
     },
     "execution_count": 271,
     "metadata": {},
     "output_type": "execute_result"
    }
   ],
   "source": [
    "pred"
   ]
  },
  {
   "cell_type": "code",
   "execution_count": 272,
   "metadata": {},
   "outputs": [],
   "source": [
    "from sklearn.metrics import accuracy_score "
   ]
  },
  {
   "cell_type": "code",
   "execution_count": 273,
   "metadata": {},
   "outputs": [
    {
     "data": {
      "text/plain": [
       "0.6433333333333333"
      ]
     },
     "execution_count": 273,
     "metadata": {},
     "output_type": "execute_result"
    }
   ],
   "source": [
    "accuracy_score(ytest,pred)"
   ]
  },
  {
   "cell_type": "code",
   "execution_count": 274,
   "metadata": {},
   "outputs": [],
   "source": [
    "from sklearn.metrics import confusion_matrix"
   ]
  },
  {
   "cell_type": "code",
   "execution_count": 275,
   "metadata": {},
   "outputs": [
    {
     "data": {
      "text/plain": [
       "array([[ 13,  18,  31],\n",
       "       [  6,  47,  40],\n",
       "       [  1,  11, 133]], dtype=int64)"
      ]
     },
     "execution_count": 275,
     "metadata": {},
     "output_type": "execute_result"
    }
   ],
   "source": [
    "confusion_matrix(ytest,pred)"
   ]
  },
  {
   "cell_type": "code",
   "execution_count": 276,
   "metadata": {},
   "outputs": [],
   "source": [
    "from sklearn.metrics import classification_report"
   ]
  },
  {
   "cell_type": "code",
   "execution_count": 277,
   "metadata": {},
   "outputs": [
    {
     "name": "stdout",
     "output_type": "stream",
     "text": [
      "              precision    recall  f1-score   support\n",
      "\n",
      "     Average       0.65      0.21      0.32        62\n",
      "        Fast       0.62      0.51      0.56        93\n",
      "        Slow       0.65      0.92      0.76       145\n",
      "\n",
      "    accuracy                           0.64       300\n",
      "   macro avg       0.64      0.54      0.55       300\n",
      "weighted avg       0.64      0.64      0.61       300\n",
      "\n"
     ]
    }
   ],
   "source": [
    "print(classification_report(ytest,pred))"
   ]
  },
  {
   "cell_type": "code",
   "execution_count": 278,
   "metadata": {},
   "outputs": [],
   "source": [
    "from sklearn.naive_bayes import MultinomialNB"
   ]
  },
  {
   "cell_type": "code",
   "execution_count": 279,
   "metadata": {},
   "outputs": [],
   "source": [
    "MNB = MultinomialNB()"
   ]
  },
  {
   "cell_type": "code",
   "execution_count": 280,
   "metadata": {},
   "outputs": [
    {
     "data": {
      "text/plain": [
       "MultinomialNB(alpha=1.0, class_prior=None, fit_prior=True)"
      ]
     },
     "execution_count": 280,
     "metadata": {},
     "output_type": "execute_result"
    }
   ],
   "source": [
    "MNB.fit(xtrain,ytrain)"
   ]
  },
  {
   "cell_type": "code",
   "execution_count": 281,
   "metadata": {},
   "outputs": [
    {
     "data": {
      "text/plain": [
       "0.6433333333333333"
      ]
     },
     "execution_count": 281,
     "metadata": {},
     "output_type": "execute_result"
    }
   ],
   "source": [
    "BNG.score(xtest,ytest)"
   ]
  },
  {
   "cell_type": "code",
   "execution_count": 282,
   "metadata": {},
   "outputs": [],
   "source": [
    "pred = MNB.predict(xtest)"
   ]
  },
  {
   "cell_type": "code",
   "execution_count": 283,
   "metadata": {},
   "outputs": [
    {
     "data": {
      "text/plain": [
       "array(['Slow', 'Slow', 'Slow', 'Fast', 'Fast', 'Slow', 'Fast', 'Slow',\n",
       "       'Fast', 'Average', 'Slow', 'Fast', 'Average', 'Fast', 'Slow',\n",
       "       'Average', 'Slow', 'Fast', 'Fast', 'Slow', 'Slow', 'Slow', 'Slow',\n",
       "       'Slow', 'Slow', 'Fast', 'Average', 'Slow', 'Slow', 'Average',\n",
       "       'Slow', 'Slow', 'Slow', 'Slow', 'Average', 'Fast', 'Fast', 'Slow',\n",
       "       'Slow', 'Slow', 'Slow', 'Slow', 'Slow', 'Fast', 'Fast', 'Slow',\n",
       "       'Slow', 'Fast', 'Slow', 'Slow', 'Fast', 'Average', 'Slow',\n",
       "       'Average', 'Average', 'Slow', 'Average', 'Slow', 'Slow', 'Fast',\n",
       "       'Fast', 'Average', 'Slow', 'Slow', 'Slow', 'Average', 'Slow',\n",
       "       'Slow', 'Slow', 'Fast', 'Slow', 'Fast', 'Fast', 'Slow', 'Slow',\n",
       "       'Fast', 'Fast', 'Slow', 'Fast', 'Slow', 'Fast', 'Slow', 'Slow',\n",
       "       'Slow', 'Slow', 'Slow', 'Slow', 'Slow', 'Slow', 'Fast', 'Slow',\n",
       "       'Fast', 'Average', 'Slow', 'Slow', 'Slow', 'Slow', 'Slow', 'Fast',\n",
       "       'Fast', 'Average', 'Fast', 'Slow', 'Fast', 'Fast', 'Slow',\n",
       "       'Average', 'Slow', 'Average', 'Slow', 'Slow', 'Slow', 'Slow',\n",
       "       'Fast', 'Average', 'Slow', 'Slow', 'Slow', 'Fast', 'Slow', 'Fast',\n",
       "       'Average', 'Fast', 'Average', 'Slow', 'Slow', 'Slow', 'Fast',\n",
       "       'Slow', 'Slow', 'Slow', 'Average', 'Slow', 'Fast', 'Slow', 'Slow',\n",
       "       'Slow', 'Slow', 'Fast', 'Slow', 'Average', 'Fast', 'Fast', 'Slow',\n",
       "       'Fast', 'Slow', 'Slow', 'Slow', 'Slow', 'Slow', 'Fast', 'Slow',\n",
       "       'Slow', 'Slow', 'Fast', 'Fast', 'Slow', 'Slow', 'Fast', 'Fast',\n",
       "       'Average', 'Fast', 'Fast', 'Slow', 'Fast', 'Fast', 'Fast', 'Slow',\n",
       "       'Fast', 'Fast', 'Fast', 'Average', 'Fast', 'Slow', 'Average',\n",
       "       'Fast', 'Fast', 'Slow', 'Slow', 'Average', 'Average', 'Fast',\n",
       "       'Slow', 'Slow', 'Slow', 'Fast', 'Fast', 'Fast', 'Slow', 'Slow',\n",
       "       'Slow', 'Fast', 'Fast', 'Fast', 'Slow', 'Slow', 'Slow', 'Fast',\n",
       "       'Slow', 'Fast', 'Average', 'Slow', 'Slow', 'Slow', 'Slow', 'Slow',\n",
       "       'Fast', 'Average', 'Fast', 'Slow', 'Slow', 'Fast', 'Slow', 'Slow',\n",
       "       'Slow', 'Fast', 'Slow', 'Average', 'Slow', 'Fast', 'Fast', 'Slow',\n",
       "       'Fast', 'Slow', 'Slow', 'Slow', 'Slow', 'Slow', 'Slow', 'Fast',\n",
       "       'Fast', 'Fast', 'Slow', 'Slow', 'Fast', 'Slow', 'Slow', 'Slow',\n",
       "       'Fast', 'Fast', 'Slow', 'Fast', 'Fast', 'Slow', 'Slow', 'Slow',\n",
       "       'Slow', 'Slow', 'Fast', 'Fast', 'Slow', 'Fast', 'Average', 'Slow',\n",
       "       'Slow', 'Slow', 'Average', 'Slow', 'Slow', 'Slow', 'Fast', 'Fast',\n",
       "       'Fast', 'Fast', 'Slow', 'Slow', 'Slow', 'Slow', 'Slow', 'Fast',\n",
       "       'Slow', 'Fast', 'Average', 'Average', 'Slow', 'Slow', 'Slow',\n",
       "       'Slow', 'Slow', 'Fast', 'Slow', 'Slow', 'Slow', 'Fast', 'Slow',\n",
       "       'Fast', 'Slow', 'Average', 'Slow', 'Slow', 'Slow', 'Fast', 'Fast',\n",
       "       'Slow', 'Slow', 'Slow', 'Slow', 'Fast', 'Average', 'Fast'],\n",
       "      dtype='<U7')"
      ]
     },
     "execution_count": 283,
     "metadata": {},
     "output_type": "execute_result"
    }
   ],
   "source": [
    "pred"
   ]
  },
  {
   "cell_type": "code",
   "execution_count": 284,
   "metadata": {},
   "outputs": [],
   "source": [
    "from sklearn.metrics import accuracy_score "
   ]
  },
  {
   "cell_type": "code",
   "execution_count": 285,
   "metadata": {},
   "outputs": [
    {
     "data": {
      "text/plain": [
       "0.69"
      ]
     },
     "execution_count": 285,
     "metadata": {},
     "output_type": "execute_result"
    }
   ],
   "source": [
    "accuracy_score(ytest,pred)"
   ]
  },
  {
   "cell_type": "code",
   "execution_count": 286,
   "metadata": {},
   "outputs": [],
   "source": [
    "from sklearn.metrics import confusion_matrix"
   ]
  },
  {
   "cell_type": "code",
   "execution_count": 287,
   "metadata": {},
   "outputs": [
    {
     "data": {
      "text/plain": [
       "array([[ 12,  36,  14],\n",
       "       [ 12,  61,  20],\n",
       "       [ 11,   0, 134]], dtype=int64)"
      ]
     },
     "execution_count": 287,
     "metadata": {},
     "output_type": "execute_result"
    }
   ],
   "source": [
    "confusion_matrix(ytest,pred)"
   ]
  },
  {
   "cell_type": "code",
   "execution_count": 288,
   "metadata": {},
   "outputs": [],
   "source": [
    "from sklearn.metrics import classification_report"
   ]
  },
  {
   "cell_type": "code",
   "execution_count": 289,
   "metadata": {},
   "outputs": [
    {
     "name": "stdout",
     "output_type": "stream",
     "text": [
      "              precision    recall  f1-score   support\n",
      "\n",
      "     Average       0.34      0.19      0.25        62\n",
      "        Fast       0.63      0.66      0.64        93\n",
      "        Slow       0.80      0.92      0.86       145\n",
      "\n",
      "    accuracy                           0.69       300\n",
      "   macro avg       0.59      0.59      0.58       300\n",
      "weighted avg       0.65      0.69      0.66       300\n",
      "\n"
     ]
    }
   ],
   "source": [
    "print(classification_report(ytest,pred))"
   ]
  },
  {
   "cell_type": "code",
   "execution_count": 290,
   "metadata": {},
   "outputs": [],
   "source": [
    "from sklearn.neighbors import KNeighborsClassifier \n",
    "KN = KNeighborsClassifier (n_neighbors=31)"
   ]
  },
  {
   "cell_type": "code",
   "execution_count": 291,
   "metadata": {},
   "outputs": [
    {
     "data": {
      "text/plain": [
       "KNeighborsClassifier(algorithm='auto', leaf_size=30, metric='minkowski',\n",
       "                     metric_params=None, n_jobs=None, n_neighbors=31, p=2,\n",
       "                     weights='uniform')"
      ]
     },
     "execution_count": 291,
     "metadata": {},
     "output_type": "execute_result"
    }
   ],
   "source": [
    "KN.fit(xtrain,ytrain)\n"
   ]
  },
  {
   "cell_type": "code",
   "execution_count": 292,
   "metadata": {},
   "outputs": [
    {
     "data": {
      "text/plain": [
       "array(['Slow'], dtype=object)"
      ]
     },
     "execution_count": 292,
     "metadata": {},
     "output_type": "execute_result"
    }
   ],
   "source": [
    "KN.predict([[2,6,1,41,1,36,1,0,0,1,1,1,25,1,2]])"
   ]
  },
  {
   "cell_type": "code",
   "execution_count": 293,
   "metadata": {},
   "outputs": [
    {
     "data": {
      "text/plain": [
       "0.67"
      ]
     },
     "execution_count": 293,
     "metadata": {},
     "output_type": "execute_result"
    }
   ],
   "source": [
    "KN.score(xtest,ytest)"
   ]
  },
  {
   "cell_type": "code",
   "execution_count": 294,
   "metadata": {},
   "outputs": [],
   "source": [
    "pred = KN.predict(xtest)"
   ]
  },
  {
   "cell_type": "code",
   "execution_count": 295,
   "metadata": {},
   "outputs": [
    {
     "data": {
      "text/plain": [
       "array(['Slow', 'Slow', 'Slow', 'Fast', 'Slow', 'Slow', 'Fast', 'Slow',\n",
       "       'Fast', 'Slow', 'Slow', 'Fast', 'Slow', 'Average', 'Slow',\n",
       "       'Average', 'Slow', 'Slow', 'Fast', 'Slow', 'Slow', 'Slow', 'Slow',\n",
       "       'Slow', 'Slow', 'Average', 'Average', 'Slow', 'Slow', 'Average',\n",
       "       'Slow', 'Slow', 'Slow', 'Slow', 'Average', 'Fast', 'Slow', 'Slow',\n",
       "       'Slow', 'Slow', 'Slow', 'Slow', 'Slow', 'Slow', 'Fast', 'Slow',\n",
       "       'Slow', 'Fast', 'Slow', 'Slow', 'Slow', 'Slow', 'Slow', 'Slow',\n",
       "       'Slow', 'Slow', 'Fast', 'Slow', 'Slow', 'Fast', 'Average', 'Slow',\n",
       "       'Slow', 'Slow', 'Slow', 'Fast', 'Slow', 'Slow', 'Slow', 'Fast',\n",
       "       'Slow', 'Fast', 'Fast', 'Slow', 'Slow', 'Fast', 'Fast', 'Slow',\n",
       "       'Average', 'Slow', 'Fast', 'Slow', 'Slow', 'Slow', 'Slow', 'Slow',\n",
       "       'Slow', 'Slow', 'Slow', 'Fast', 'Slow', 'Fast', 'Slow', 'Slow',\n",
       "       'Slow', 'Slow', 'Slow', 'Slow', 'Fast', 'Fast', 'Average', 'Fast',\n",
       "       'Slow', 'Fast', 'Fast', 'Slow', 'Average', 'Slow', 'Average',\n",
       "       'Slow', 'Slow', 'Slow', 'Slow', 'Fast', 'Fast', 'Slow', 'Slow',\n",
       "       'Slow', 'Fast', 'Slow', 'Fast', 'Average', 'Slow', 'Average',\n",
       "       'Slow', 'Slow', 'Slow', 'Average', 'Slow', 'Slow', 'Slow', 'Slow',\n",
       "       'Slow', 'Slow', 'Slow', 'Slow', 'Slow', 'Slow', 'Fast', 'Slow',\n",
       "       'Average', 'Average', 'Fast', 'Slow', 'Fast', 'Slow', 'Slow',\n",
       "       'Slow', 'Slow', 'Slow', 'Fast', 'Slow', 'Slow', 'Slow', 'Fast',\n",
       "       'Fast', 'Slow', 'Slow', 'Fast', 'Fast', 'Fast', 'Fast', 'Fast',\n",
       "       'Slow', 'Slow', 'Average', 'Average', 'Slow', 'Fast', 'Fast',\n",
       "       'Average', 'Average', 'Fast', 'Slow', 'Slow', 'Slow', 'Fast',\n",
       "       'Slow', 'Slow', 'Fast', 'Slow', 'Fast', 'Slow', 'Slow', 'Slow',\n",
       "       'Fast', 'Fast', 'Fast', 'Slow', 'Fast', 'Slow', 'Fast', 'Fast',\n",
       "       'Average', 'Slow', 'Slow', 'Slow', 'Fast', 'Slow', 'Average',\n",
       "       'Slow', 'Slow', 'Fast', 'Slow', 'Slow', 'Slow', 'Fast', 'Average',\n",
       "       'Fast', 'Slow', 'Slow', 'Slow', 'Slow', 'Slow', 'Slow', 'Average',\n",
       "       'Slow', 'Average', 'Fast', 'Average', 'Fast', 'Slow', 'Fast',\n",
       "       'Slow', 'Slow', 'Slow', 'Slow', 'Slow', 'Slow', 'Slow', 'Fast',\n",
       "       'Fast', 'Slow', 'Slow', 'Fast', 'Slow', 'Slow', 'Slow', 'Average',\n",
       "       'Slow', 'Slow', 'Fast', 'Average', 'Slow', 'Slow', 'Slow', 'Slow',\n",
       "       'Slow', 'Fast', 'Fast', 'Slow', 'Fast', 'Slow', 'Slow', 'Slow',\n",
       "       'Slow', 'Average', 'Slow', 'Fast', 'Slow', 'Fast', 'Fast', 'Fast',\n",
       "       'Fast', 'Slow', 'Slow', 'Slow', 'Slow', 'Slow', 'Fast', 'Slow',\n",
       "       'Fast', 'Slow', 'Average', 'Slow', 'Slow', 'Slow', 'Slow', 'Slow',\n",
       "       'Fast', 'Slow', 'Slow', 'Slow', 'Average', 'Slow', 'Slow', 'Slow',\n",
       "       'Average', 'Slow', 'Slow', 'Slow', 'Average', 'Fast', 'Slow',\n",
       "       'Slow', 'Slow', 'Slow', 'Fast', 'Fast', 'Slow'], dtype=object)"
      ]
     },
     "execution_count": 295,
     "metadata": {},
     "output_type": "execute_result"
    }
   ],
   "source": [
    "pred"
   ]
  },
  {
   "cell_type": "code",
   "execution_count": 296,
   "metadata": {},
   "outputs": [],
   "source": [
    "from sklearn.metrics import accuracy_score "
   ]
  },
  {
   "cell_type": "code",
   "execution_count": 297,
   "metadata": {},
   "outputs": [
    {
     "data": {
      "text/plain": [
       "0.67"
      ]
     },
     "execution_count": 297,
     "metadata": {},
     "output_type": "execute_result"
    }
   ],
   "source": [
    "accuracy_score(ytest,pred)"
   ]
  },
  {
   "cell_type": "code",
   "execution_count": 298,
   "metadata": {},
   "outputs": [],
   "source": [
    "from sklearn.metrics import confusion_matrix"
   ]
  },
  {
   "cell_type": "code",
   "execution_count": 299,
   "metadata": {},
   "outputs": [
    {
     "data": {
      "text/plain": [
       "array([[ 15,  23,  24],\n",
       "       [ 14,  49,  30],\n",
       "       [  4,   4, 137]], dtype=int64)"
      ]
     },
     "execution_count": 299,
     "metadata": {},
     "output_type": "execute_result"
    }
   ],
   "source": [
    "confusion_matrix(ytest,pred)"
   ]
  },
  {
   "cell_type": "code",
   "execution_count": 300,
   "metadata": {},
   "outputs": [],
   "source": [
    "from sklearn.metrics import classification_report"
   ]
  },
  {
   "cell_type": "code",
   "execution_count": 301,
   "metadata": {},
   "outputs": [
    {
     "name": "stdout",
     "output_type": "stream",
     "text": [
      "              precision    recall  f1-score   support\n",
      "\n",
      "     Average       0.45      0.24      0.32        62\n",
      "        Fast       0.64      0.53      0.58        93\n",
      "        Slow       0.72      0.94      0.82       145\n",
      "\n",
      "    accuracy                           0.67       300\n",
      "   macro avg       0.61      0.57      0.57       300\n",
      "weighted avg       0.64      0.67      0.64       300\n",
      "\n"
     ]
    }
   ],
   "source": [
    "print(classification_report(ytest,pred))"
   ]
  },
  {
   "cell_type": "code",
   "execution_count": 302,
   "metadata": {},
   "outputs": [],
   "source": [
    "from sklearn.svm import SVC"
   ]
  },
  {
   "cell_type": "code",
   "execution_count": 303,
   "metadata": {},
   "outputs": [],
   "source": [
    "SV = SVC(gamma='auto')"
   ]
  },
  {
   "cell_type": "code",
   "execution_count": 304,
   "metadata": {},
   "outputs": [
    {
     "data": {
      "text/plain": [
       "SVC(C=1.0, break_ties=False, cache_size=200, class_weight=None, coef0=0.0,\n",
       "    decision_function_shape='ovr', degree=3, gamma='auto', kernel='rbf',\n",
       "    max_iter=-1, probability=False, random_state=None, shrinking=True,\n",
       "    tol=0.001, verbose=False)"
      ]
     },
     "execution_count": 304,
     "metadata": {},
     "output_type": "execute_result"
    }
   ],
   "source": [
    "SV.fit(xtrain,ytrain)"
   ]
  },
  {
   "cell_type": "code",
   "execution_count": 305,
   "metadata": {},
   "outputs": [
    {
     "data": {
      "text/plain": [
       "0.7333333333333333"
      ]
     },
     "execution_count": 305,
     "metadata": {},
     "output_type": "execute_result"
    }
   ],
   "source": [
    "SV.score(xtest,ytest)"
   ]
  },
  {
   "cell_type": "code",
   "execution_count": 306,
   "metadata": {},
   "outputs": [],
   "source": [
    "pred = SV.predict(xtest)"
   ]
  },
  {
   "cell_type": "code",
   "execution_count": 307,
   "metadata": {},
   "outputs": [
    {
     "data": {
      "text/plain": [
       "array(['Slow', 'Slow', 'Slow', 'Fast', 'Slow', 'Slow', 'Fast', 'Slow',\n",
       "       'Fast', 'Slow', 'Slow', 'Fast', 'Slow', 'Average', 'Slow', 'Slow',\n",
       "       'Fast', 'Average', 'Fast', 'Slow', 'Slow', 'Slow', 'Slow', 'Slow',\n",
       "       'Slow', 'Average', 'Average', 'Average', 'Slow', 'Average', 'Slow',\n",
       "       'Slow', 'Slow', 'Slow', 'Slow', 'Fast', 'Slow', 'Slow', 'Slow',\n",
       "       'Slow', 'Average', 'Slow', 'Average', 'Average', 'Fast', 'Slow',\n",
       "       'Slow', 'Fast', 'Slow', 'Slow', 'Fast', 'Fast', 'Slow', 'Fast',\n",
       "       'Average', 'Slow', 'Slow', 'Slow', 'Slow', 'Fast', 'Average',\n",
       "       'Slow', 'Slow', 'Slow', 'Slow', 'Slow', 'Slow', 'Slow', 'Slow',\n",
       "       'Fast', 'Slow', 'Fast', 'Fast', 'Slow', 'Slow', 'Fast', 'Fast',\n",
       "       'Slow', 'Average', 'Slow', 'Fast', 'Slow', 'Slow', 'Slow', 'Slow',\n",
       "       'Slow', 'Slow', 'Slow', 'Slow', 'Average', 'Slow', 'Fast', 'Fast',\n",
       "       'Slow', 'Slow', 'Slow', 'Slow', 'Slow', 'Fast', 'Fast', 'Average',\n",
       "       'Fast', 'Slow', 'Fast', 'Fast', 'Slow', 'Average', 'Fast', 'Fast',\n",
       "       'Slow', 'Slow', 'Slow', 'Slow', 'Fast', 'Fast', 'Fast', 'Slow',\n",
       "       'Slow', 'Fast', 'Slow', 'Fast', 'Fast', 'Average', 'Average',\n",
       "       'Slow', 'Fast', 'Slow', 'Average', 'Average', 'Slow', 'Slow',\n",
       "       'Slow', 'Slow', 'Average', 'Slow', 'Slow', 'Slow', 'Slow', 'Fast',\n",
       "       'Slow', 'Average', 'Fast', 'Fast', 'Slow', 'Fast', 'Slow', 'Slow',\n",
       "       'Slow', 'Slow', 'Slow', 'Fast', 'Slow', 'Fast', 'Slow', 'Fast',\n",
       "       'Fast', 'Slow', 'Slow', 'Fast', 'Slow', 'Fast', 'Fast', 'Fast',\n",
       "       'Slow', 'Fast', 'Average', 'Average', 'Fast', 'Fast', 'Average',\n",
       "       'Average', 'Average', 'Average', 'Slow', 'Slow', 'Fast', 'Fast',\n",
       "       'Slow', 'Slow', 'Slow', 'Slow', 'Fast', 'Slow', 'Slow', 'Slow',\n",
       "       'Fast', 'Fast', 'Fast', 'Slow', 'Fast', 'Slow', 'Fast', 'Fast',\n",
       "       'Slow', 'Slow', 'Slow', 'Slow', 'Average', 'Slow', 'Average',\n",
       "       'Slow', 'Fast', 'Fast', 'Slow', 'Slow', 'Slow', 'Fast', 'Slow',\n",
       "       'Fast', 'Slow', 'Slow', 'Fast', 'Slow', 'Slow', 'Slow', 'Average',\n",
       "       'Slow', 'Fast', 'Slow', 'Average', 'Fast', 'Slow', 'Fast', 'Slow',\n",
       "       'Fast', 'Slow', 'Fast', 'Slow', 'Slow', 'Average', 'Fast', 'Fast',\n",
       "       'Slow', 'Slow', 'Fast', 'Slow', 'Slow', 'Slow', 'Average', 'Fast',\n",
       "       'Slow', 'Fast', 'Average', 'Slow', 'Slow', 'Slow', 'Average',\n",
       "       'Slow', 'Fast', 'Fast', 'Average', 'Fast', 'Slow', 'Slow', 'Slow',\n",
       "       'Slow', 'Slow', 'Fast', 'Fast', 'Slow', 'Fast', 'Fast', 'Fast',\n",
       "       'Fast', 'Slow', 'Slow', 'Average', 'Slow', 'Slow', 'Fast', 'Slow',\n",
       "       'Fast', 'Slow', 'Average', 'Slow', 'Slow', 'Slow', 'Slow', 'Fast',\n",
       "       'Fast', 'Slow', 'Slow', 'Average', 'Average', 'Slow', 'Average',\n",
       "       'Slow', 'Average', 'Slow', 'Fast', 'Slow', 'Average', 'Fast',\n",
       "       'Slow', 'Slow', 'Slow', 'Slow', 'Fast', 'Fast', 'Average'],\n",
       "      dtype=object)"
      ]
     },
     "execution_count": 307,
     "metadata": {},
     "output_type": "execute_result"
    }
   ],
   "source": [
    "pred"
   ]
  },
  {
   "cell_type": "code",
   "execution_count": 308,
   "metadata": {},
   "outputs": [],
   "source": [
    "from sklearn.metrics import accuracy_score "
   ]
  },
  {
   "cell_type": "code",
   "execution_count": 309,
   "metadata": {},
   "outputs": [
    {
     "data": {
      "text/plain": [
       "0.7333333333333333"
      ]
     },
     "execution_count": 309,
     "metadata": {},
     "output_type": "execute_result"
    }
   ],
   "source": [
    "accuracy_score(ytest,pred)"
   ]
  },
  {
   "cell_type": "code",
   "execution_count": 310,
   "metadata": {},
   "outputs": [],
   "source": [
    "from sklearn.metrics import confusion_matrix"
   ]
  },
  {
   "cell_type": "code",
   "execution_count": 311,
   "metadata": {},
   "outputs": [
    {
     "data": {
      "text/plain": [
       "array([[ 19,  29,  14],\n",
       "       [ 21,  61,  11],\n",
       "       [  4,   1, 140]], dtype=int64)"
      ]
     },
     "execution_count": 311,
     "metadata": {},
     "output_type": "execute_result"
    }
   ],
   "source": [
    "confusion_matrix(ytest,pred)"
   ]
  },
  {
   "cell_type": "code",
   "execution_count": 312,
   "metadata": {},
   "outputs": [],
   "source": [
    "from sklearn.metrics import classification_report"
   ]
  },
  {
   "cell_type": "code",
   "execution_count": 313,
   "metadata": {},
   "outputs": [
    {
     "name": "stdout",
     "output_type": "stream",
     "text": [
      "              precision    recall  f1-score   support\n",
      "\n",
      "     Average       0.43      0.31      0.36        62\n",
      "        Fast       0.67      0.66      0.66        93\n",
      "        Slow       0.85      0.97      0.90       145\n",
      "\n",
      "    accuracy                           0.73       300\n",
      "   macro avg       0.65      0.64      0.64       300\n",
      "weighted avg       0.71      0.73      0.72       300\n",
      "\n"
     ]
    }
   ],
   "source": [
    "print(classification_report(ytest,pred))"
   ]
  },
  {
   "cell_type": "markdown",
   "metadata": {},
   "source": [
    "# Comparision of classifiers "
   ]
  },
  {
   "cell_type": "code",
   "execution_count": 314,
   "metadata": {},
   "outputs": [],
   "source": [
    "names = [\"Decision_Tree\",\"Random_Forest\",\"Gaussian_Naive_Bayes\",\"Bernoulli_Naive_Bayes\",\"Multinomial_Naive_Bayes\",\"Nearest_Neighbors\",\"SVM\"]\n",
    "\n",
    "Classifiers = [DecisionTreeClassifier(),\n",
    "              RandomForestClassifier(),\n",
    "              GaussianNB(),\n",
    "              BernoulliNB(),\n",
    "              MultinomialNB(),\n",
    "              KNeighborsClassifier(31),\n",
    "              SVC(gamma='auto')]"
   ]
  },
  {
   "cell_type": "code",
   "execution_count": 316,
   "metadata": {},
   "outputs": [],
   "source": [
    "scores = []\n",
    "for name, clf in zip(names, Classifiers):\n",
    "    clf.fit(xtrain, ytrain)\n",
    "    score = clf.score(xtest, ytest)\n",
    "    scores.append(score)"
   ]
  },
  {
   "cell_type": "code",
   "execution_count": 317,
   "metadata": {},
   "outputs": [
    {
     "data": {
      "text/plain": [
       "[0.9866666666666667,\n",
       " 0.9733333333333334,\n",
       " 0.81,\n",
       " 0.6433333333333333,\n",
       " 0.69,\n",
       " 0.67,\n",
       " 0.7333333333333333]"
      ]
     },
     "execution_count": 317,
     "metadata": {},
     "output_type": "execute_result"
    }
   ],
   "source": [
    "scores"
   ]
  },
  {
   "cell_type": "code",
   "execution_count": 318,
   "metadata": {},
   "outputs": [],
   "source": [
    "import seaborn as sns"
   ]
  },
  {
   "cell_type": "code",
   "execution_count": 319,
   "metadata": {},
   "outputs": [
    {
     "data": {
      "text/html": [
       "<div>\n",
       "<style scoped>\n",
       "    .dataframe tbody tr th:only-of-type {\n",
       "        vertical-align: middle;\n",
       "    }\n",
       "\n",
       "    .dataframe tbody tr th {\n",
       "        vertical-align: top;\n",
       "    }\n",
       "\n",
       "    .dataframe thead th {\n",
       "        text-align: right;\n",
       "    }\n",
       "</style>\n",
       "<table border=\"1\" class=\"dataframe\">\n",
       "  <thead>\n",
       "    <tr style=\"text-align: right;\">\n",
       "      <th></th>\n",
       "      <th>name</th>\n",
       "      <th>score</th>\n",
       "    </tr>\n",
       "  </thead>\n",
       "  <tbody>\n",
       "    <tr>\n",
       "      <th>0</th>\n",
       "      <td>Decision_Tree</td>\n",
       "      <td>0.986667</td>\n",
       "    </tr>\n",
       "    <tr>\n",
       "      <th>1</th>\n",
       "      <td>Random_Forest</td>\n",
       "      <td>0.973333</td>\n",
       "    </tr>\n",
       "    <tr>\n",
       "      <th>2</th>\n",
       "      <td>Gaussian_Naive_Bayes</td>\n",
       "      <td>0.810000</td>\n",
       "    </tr>\n",
       "    <tr>\n",
       "      <th>3</th>\n",
       "      <td>Bernoulli_Naive_Bayes</td>\n",
       "      <td>0.643333</td>\n",
       "    </tr>\n",
       "    <tr>\n",
       "      <th>4</th>\n",
       "      <td>Multinomial_Naive_Bayes</td>\n",
       "      <td>0.690000</td>\n",
       "    </tr>\n",
       "    <tr>\n",
       "      <th>5</th>\n",
       "      <td>Nearest_Neighbors</td>\n",
       "      <td>0.670000</td>\n",
       "    </tr>\n",
       "    <tr>\n",
       "      <th>6</th>\n",
       "      <td>SVM</td>\n",
       "      <td>0.733333</td>\n",
       "    </tr>\n",
       "  </tbody>\n",
       "</table>\n",
       "</div>"
      ],
      "text/plain": [
       "                      name     score\n",
       "0            Decision_Tree  0.986667\n",
       "1            Random_Forest  0.973333\n",
       "2     Gaussian_Naive_Bayes  0.810000\n",
       "3    Bernoulli_Naive_Bayes  0.643333\n",
       "4  Multinomial_Naive_Bayes  0.690000\n",
       "5        Nearest_Neighbors  0.670000\n",
       "6                      SVM  0.733333"
      ]
     },
     "execution_count": 319,
     "metadata": {},
     "output_type": "execute_result"
    }
   ],
   "source": [
    "df = pd.DataFrame()\n",
    "df['name'] = names\n",
    "df['score'] = scores\n",
    "df"
   ]
  },
  {
   "cell_type": "code",
   "execution_count": 326,
   "metadata": {},
   "outputs": [
    {
     "data": {
      "image/png": "[encoded data removed]",
      "text/plain": [
       "<Figure size 432x288 with 1 Axes>"
      ]
     },
     "metadata": {},
     "output_type": "display_data"
    }
   ],
   "source": [
    "sns.set(style=\"whitegrid\")\n",
    "ax = sns.barplot(y=\"name\", x=\"score\", data=df)"
   ]
  },
  {
   "cell_type": "code",
   "execution_count": null,
   "metadata": {},
   "outputs": [],
   "source": []
  },
  {
   "cell_type": "code",
   "execution_count": null,
   "metadata": {},
   "outputs": [],
   "source": []
  },
  {
   "cell_type": "code",
   "execution_count": null,
   "metadata": {},
   "outputs": [],
   "source": []
  },
  {
   "cell_type": "code",
   "execution_count": null,
   "metadata": {},
   "outputs": [],
   "source": []
  },
  {
   "cell_type": "code",
   "execution_count": null,
   "metadata": {},
   "outputs": [],
   "source": []
  },
  {
   "cell_type": "code",
   "execution_count": null,
   "metadata": {},
   "outputs": [],
   "source": []
  },
  {
   "cell_type": "code",
   "execution_count": null,
   "metadata": {},
   "outputs": [],
   "source": []
  }
 ],
 "metadata": {
  "kernelspec": {
   "display_name": "Python 3",
   "language": "python",
   "name": "python3"
  },
  "language_info": {
   "codemirror_mode": {
    "name": "ipython",
    "version": 3
   },
   "file_extension": ".py",
   "mimetype": "text/x-python",
   "name": "python",
   "nbconvert_exporter": "python",
   "pygments_lexer": "ipython3",
   "version": "3.7.6"
  }
 },
 "nbformat": 4,
 "nbformat_minor": 4
}
